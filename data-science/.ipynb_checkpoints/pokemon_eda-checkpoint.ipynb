{
 "cells": [
  {
   "cell_type": "code",
   "execution_count": 1,
   "id": "de77d7b7-e41c-4ee6-a078-55575f6362c1",
   "metadata": {},
   "outputs": [],
   "source": [
    "import pandas as pd"
   ]
  },
  {
   "cell_type": "code",
   "execution_count": 2,
   "id": "921bb728-94ed-4774-bc29-865ceec4b01c",
   "metadata": {},
   "outputs": [
    {
     "data": {
      "text/html": [
       "<div>\n",
       "<style scoped>\n",
       "    .dataframe tbody tr th:only-of-type {\n",
       "        vertical-align: middle;\n",
       "    }\n",
       "\n",
       "    .dataframe tbody tr th {\n",
       "        vertical-align: top;\n",
       "    }\n",
       "\n",
       "    .dataframe thead th {\n",
       "        text-align: right;\n",
       "    }\n",
       "</style>\n",
       "<table border=\"1\" class=\"dataframe\">\n",
       "  <thead>\n",
       "    <tr style=\"text-align: right;\">\n",
       "      <th></th>\n",
       "      <th>Unnamed: 0</th>\n",
       "      <th>pokedex_number</th>\n",
       "      <th>name</th>\n",
       "      <th>generation</th>\n",
       "      <th>status</th>\n",
       "      <th>type_1</th>\n",
       "      <th>type_2</th>\n",
       "      <th>height_m</th>\n",
       "      <th>weight_pounds</th>\n",
       "      <th>hp</th>\n",
       "      <th>...</th>\n",
       "      <th>against_ground</th>\n",
       "      <th>against_flying</th>\n",
       "      <th>against_psychic</th>\n",
       "      <th>against_bug</th>\n",
       "      <th>against_rock</th>\n",
       "      <th>against_ghost</th>\n",
       "      <th>against_dragon</th>\n",
       "      <th>against_dark</th>\n",
       "      <th>against_steel</th>\n",
       "      <th>against_fairy</th>\n",
       "    </tr>\n",
       "  </thead>\n",
       "  <tbody>\n",
       "    <tr>\n",
       "      <th>0</th>\n",
       "      <td>0</td>\n",
       "      <td>1</td>\n",
       "      <td>Bulbasaur</td>\n",
       "      <td>1</td>\n",
       "      <td>Normal</td>\n",
       "      <td>GRASS</td>\n",
       "      <td>Poison</td>\n",
       "      <td>0.7</td>\n",
       "      <td>15.211878</td>\n",
       "      <td>45</td>\n",
       "      <td>...</td>\n",
       "      <td>1.0</td>\n",
       "      <td>2.0</td>\n",
       "      <td>2.0</td>\n",
       "      <td>1.0</td>\n",
       "      <td>1.0</td>\n",
       "      <td>1.0</td>\n",
       "      <td>1.0</td>\n",
       "      <td>1.0</td>\n",
       "      <td>1.0</td>\n",
       "      <td>0.5</td>\n",
       "    </tr>\n",
       "    <tr>\n",
       "      <th>1</th>\n",
       "      <td>1</td>\n",
       "      <td>2</td>\n",
       "      <td>Ivysaur</td>\n",
       "      <td>1</td>\n",
       "      <td>Normal</td>\n",
       "      <td>GRASS</td>\n",
       "      <td>Poison</td>\n",
       "      <td>1.0</td>\n",
       "      <td>28.660060</td>\n",
       "      <td>60</td>\n",
       "      <td>...</td>\n",
       "      <td>1.0</td>\n",
       "      <td>2.0</td>\n",
       "      <td>2.0</td>\n",
       "      <td>1.0</td>\n",
       "      <td>1.0</td>\n",
       "      <td>1.0</td>\n",
       "      <td>1.0</td>\n",
       "      <td>1.0</td>\n",
       "      <td>1.0</td>\n",
       "      <td>0.5</td>\n",
       "    </tr>\n",
       "    <tr>\n",
       "      <th>2</th>\n",
       "      <td>2</td>\n",
       "      <td>3</td>\n",
       "      <td>Venusaur</td>\n",
       "      <td>1</td>\n",
       "      <td>Normal</td>\n",
       "      <td>GRASS</td>\n",
       "      <td>Poison</td>\n",
       "      <td>2.0</td>\n",
       "      <td>220.462000</td>\n",
       "      <td>80</td>\n",
       "      <td>...</td>\n",
       "      <td>1.0</td>\n",
       "      <td>2.0</td>\n",
       "      <td>2.0</td>\n",
       "      <td>1.0</td>\n",
       "      <td>1.0</td>\n",
       "      <td>1.0</td>\n",
       "      <td>1.0</td>\n",
       "      <td>1.0</td>\n",
       "      <td>1.0</td>\n",
       "      <td>0.5</td>\n",
       "    </tr>\n",
       "  </tbody>\n",
       "</table>\n",
       "<p>3 rows × 35 columns</p>\n",
       "</div>"
      ],
      "text/plain": [
       "   Unnamed: 0  pokedex_number       name  generation  status type_1  type_2  \\\n",
       "0           0               1  Bulbasaur           1  Normal  GRASS  Poison   \n",
       "1           1               2    Ivysaur           1  Normal  GRASS  Poison   \n",
       "2           2               3   Venusaur           1  Normal  GRASS  Poison   \n",
       "\n",
       "   height_m  weight_pounds  hp  ...  against_ground  against_flying  \\\n",
       "0       0.7      15.211878  45  ...             1.0             2.0   \n",
       "1       1.0      28.660060  60  ...             1.0             2.0   \n",
       "2       2.0     220.462000  80  ...             1.0             2.0   \n",
       "\n",
       "   against_psychic  against_bug  against_rock  against_ghost against_dragon  \\\n",
       "0              2.0          1.0           1.0            1.0            1.0   \n",
       "1              2.0          1.0           1.0            1.0            1.0   \n",
       "2              2.0          1.0           1.0            1.0            1.0   \n",
       "\n",
       "   against_dark  against_steel  against_fairy  \n",
       "0           1.0            1.0            0.5  \n",
       "1           1.0            1.0            0.5  \n",
       "2           1.0            1.0            0.5  \n",
       "\n",
       "[3 rows x 35 columns]"
      ]
     },
     "execution_count": 2,
     "metadata": {},
     "output_type": "execute_result"
    }
   ],
   "source": [
    "df = pd.read_csv('pokedex_mastermind.csv')\n",
    "df.head(3)"
   ]
  },
  {
   "cell_type": "markdown",
   "id": "475bae37-adb3-4ce9-8981-3186b21a1a41",
   "metadata": {},
   "source": [
    "Creado backup del dataframe"
   ]
  },
  {
   "cell_type": "code",
   "execution_count": 3,
   "id": "edf3f633-8aa1-4d91-aa92-f3784699c75a",
   "metadata": {},
   "outputs": [],
   "source": [
    "df_backup = df.copy(deep=True)"
   ]
  },
  {
   "cell_type": "markdown",
   "id": "7b68cdf3-9ece-4fe1-9230-568a519fae58",
   "metadata": {},
   "source": [
    "Elimino la 1ª columna \"Unnamed: 0\""
   ]
  },
  {
   "cell_type": "code",
   "execution_count": 46,
   "id": "5062fcc2-7083-46cd-adb9-5db0dbeb0ea9",
   "metadata": {},
   "outputs": [],
   "source": [
    "df = df.drop('Unnamed: 0', axis=1)"
   ]
  },
  {
   "cell_type": "markdown",
   "id": "c6215f12-7727-4632-b860-b2d62fb7978d",
   "metadata": {},
   "source": [
    "Listado de columnas"
   ]
  },
  {
   "cell_type": "code",
   "execution_count": 8,
   "id": "8a9c701e-2ca6-4eeb-a962-10c5030f6d14",
   "metadata": {},
   "outputs": [
    {
     "data": {
      "text/plain": [
       "Index(['pokedex_number', 'name', 'generation', 'status', 'type_1', 'type_2',\n",
       "       'height_m', 'weight_pounds', 'hp', 'attack', 'defense', 'sp_attack',\n",
       "       'sp_defense', 'speed', 'catch_rate', 'percentage_male',\n",
       "       'against_normal', 'against_fire', 'against_water', 'against_electric',\n",
       "       'against_grass', 'against_ice', 'against_fight', 'against_poison',\n",
       "       'against_ground', 'against_flying', 'against_psychic', 'against_bug',\n",
       "       'against_rock', 'against_ghost', 'against_dragon', 'against_dark',\n",
       "       'against_steel', 'against_fairy'],\n",
       "      dtype='object')"
      ]
     },
     "execution_count": 8,
     "metadata": {},
     "output_type": "execute_result"
    }
   ],
   "source": [
    "df.columns"
   ]
  },
  {
   "cell_type": "markdown",
   "id": "373136be-897d-46ca-a4e6-f28e02e17d2b",
   "metadata": {},
   "source": [
    "## 1. ¿Cuál es el tipo de pokemon más común?"
   ]
  },
  {
   "cell_type": "code",
   "execution_count": 31,
   "id": "cdb95398-4893-4c01-8242-1d113dbcb8e6",
   "metadata": {},
   "outputs": [
    {
     "data": {
      "text/plain": [
       "WATER       134\n",
       "NORMAL      115\n",
       "GRASS        91\n",
       "BUG          81\n",
       "PSYCHIC      81\n",
       "FIRE         65\n",
       "ELECTRIC     62\n",
       "ROCK         60\n",
       "DARK         46\n",
       "GHOST        42\n",
       "FIGHTING     42\n",
       "POISON       41\n",
       "GROUND       41\n",
       "DRAGON       41\n",
       "ICE          37\n",
       "STEEL        36\n",
       "FAIRY        22\n",
       "FLYING        8\n",
       "Name: type_1, dtype: int64"
      ]
     },
     "execution_count": 31,
     "metadata": {},
     "output_type": "execute_result"
    }
   ],
   "source": [
    "tipos = df['type_1'].value_counts()\n",
    "tipos"
   ]
  },
  {
   "cell_type": "code",
   "execution_count": 42,
   "id": "d23938ee-f786-4931-94a0-42b25e62247b",
   "metadata": {},
   "outputs": [
    {
     "name": "stdout",
     "output_type": "stream",
     "text": [
      "El tipo de pokemon más común es el tipo Water, con 134 ejemplares.\n"
     ]
    }
   ],
   "source": [
    "most_common_type = tipos[tipos == tipos.max()]\n",
    "print(f'El tipo de pokemon más común es el tipo {most_common_type.index[0].capitalize()}, con {most_common_type.values[0]} ejemplares.')"
   ]
  },
  {
   "cell_type": "markdown",
   "id": "5f1857f7-2fd7-44fc-9611-52144e5c55ab",
   "metadata": {},
   "source": [
    "## 2. ¿Cuál es el número de pokemons legendarios en cada generación?"
   ]
  },
  {
   "cell_type": "code",
   "execution_count": 9,
   "id": "9ffde738-5857-4adf-9470-31193b622721",
   "metadata": {},
   "outputs": [
    {
     "data": {
      "text/html": [
       "<div>\n",
       "<style scoped>\n",
       "    .dataframe tbody tr th:only-of-type {\n",
       "        vertical-align: middle;\n",
       "    }\n",
       "\n",
       "    .dataframe tbody tr th {\n",
       "        vertical-align: top;\n",
       "    }\n",
       "\n",
       "    .dataframe thead th {\n",
       "        text-align: right;\n",
       "    }\n",
       "</style>\n",
       "<table border=\"1\" class=\"dataframe\">\n",
       "  <thead>\n",
       "    <tr style=\"text-align: right;\">\n",
       "      <th></th>\n",
       "      <th>pokedex_number</th>\n",
       "      <th>name</th>\n",
       "      <th>generation</th>\n",
       "      <th>status</th>\n",
       "      <th>type_1</th>\n",
       "      <th>type_2</th>\n",
       "      <th>height_m</th>\n",
       "      <th>weight_pounds</th>\n",
       "      <th>hp</th>\n",
       "      <th>attack</th>\n",
       "      <th>...</th>\n",
       "      <th>against_ground</th>\n",
       "      <th>against_flying</th>\n",
       "      <th>against_psychic</th>\n",
       "      <th>against_bug</th>\n",
       "      <th>against_rock</th>\n",
       "      <th>against_ghost</th>\n",
       "      <th>against_dragon</th>\n",
       "      <th>against_dark</th>\n",
       "      <th>against_steel</th>\n",
       "      <th>against_fairy</th>\n",
       "    </tr>\n",
       "  </thead>\n",
       "  <tbody>\n",
       "    <tr>\n",
       "      <th>0</th>\n",
       "      <td>1</td>\n",
       "      <td>Bulbasaur</td>\n",
       "      <td>1</td>\n",
       "      <td>Normal</td>\n",
       "      <td>GRASS</td>\n",
       "      <td>Poison</td>\n",
       "      <td>0.7</td>\n",
       "      <td>15.211878</td>\n",
       "      <td>45</td>\n",
       "      <td>49</td>\n",
       "      <td>...</td>\n",
       "      <td>1.0</td>\n",
       "      <td>2.0</td>\n",
       "      <td>2.0</td>\n",
       "      <td>1.0</td>\n",
       "      <td>1.0</td>\n",
       "      <td>1.0</td>\n",
       "      <td>1.0</td>\n",
       "      <td>1.0</td>\n",
       "      <td>1.0</td>\n",
       "      <td>0.5</td>\n",
       "    </tr>\n",
       "    <tr>\n",
       "      <th>1</th>\n",
       "      <td>2</td>\n",
       "      <td>Ivysaur</td>\n",
       "      <td>1</td>\n",
       "      <td>Normal</td>\n",
       "      <td>GRASS</td>\n",
       "      <td>Poison</td>\n",
       "      <td>1.0</td>\n",
       "      <td>28.660060</td>\n",
       "      <td>60</td>\n",
       "      <td>62</td>\n",
       "      <td>...</td>\n",
       "      <td>1.0</td>\n",
       "      <td>2.0</td>\n",
       "      <td>2.0</td>\n",
       "      <td>1.0</td>\n",
       "      <td>1.0</td>\n",
       "      <td>1.0</td>\n",
       "      <td>1.0</td>\n",
       "      <td>1.0</td>\n",
       "      <td>1.0</td>\n",
       "      <td>0.5</td>\n",
       "    </tr>\n",
       "    <tr>\n",
       "      <th>2</th>\n",
       "      <td>3</td>\n",
       "      <td>Venusaur</td>\n",
       "      <td>1</td>\n",
       "      <td>Normal</td>\n",
       "      <td>GRASS</td>\n",
       "      <td>Poison</td>\n",
       "      <td>2.0</td>\n",
       "      <td>220.462000</td>\n",
       "      <td>80</td>\n",
       "      <td>82</td>\n",
       "      <td>...</td>\n",
       "      <td>1.0</td>\n",
       "      <td>2.0</td>\n",
       "      <td>2.0</td>\n",
       "      <td>1.0</td>\n",
       "      <td>1.0</td>\n",
       "      <td>1.0</td>\n",
       "      <td>1.0</td>\n",
       "      <td>1.0</td>\n",
       "      <td>1.0</td>\n",
       "      <td>0.5</td>\n",
       "    </tr>\n",
       "    <tr>\n",
       "      <th>3</th>\n",
       "      <td>3</td>\n",
       "      <td>VenusaurMega Venusaur</td>\n",
       "      <td>1</td>\n",
       "      <td>Normal</td>\n",
       "      <td>GRASS</td>\n",
       "      <td>Poison</td>\n",
       "      <td>2.4</td>\n",
       "      <td>342.818410</td>\n",
       "      <td>80</td>\n",
       "      <td>100</td>\n",
       "      <td>...</td>\n",
       "      <td>1.0</td>\n",
       "      <td>2.0</td>\n",
       "      <td>2.0</td>\n",
       "      <td>1.0</td>\n",
       "      <td>1.0</td>\n",
       "      <td>1.0</td>\n",
       "      <td>1.0</td>\n",
       "      <td>1.0</td>\n",
       "      <td>1.0</td>\n",
       "      <td>0.5</td>\n",
       "    </tr>\n",
       "    <tr>\n",
       "      <th>4</th>\n",
       "      <td>4</td>\n",
       "      <td>Charmander</td>\n",
       "      <td>1</td>\n",
       "      <td>Normal</td>\n",
       "      <td>FIRE</td>\n",
       "      <td>NaN</td>\n",
       "      <td>0.6</td>\n",
       "      <td>18.739270</td>\n",
       "      <td>39</td>\n",
       "      <td>52</td>\n",
       "      <td>...</td>\n",
       "      <td>2.0</td>\n",
       "      <td>1.0</td>\n",
       "      <td>1.0</td>\n",
       "      <td>0.5</td>\n",
       "      <td>2.0</td>\n",
       "      <td>1.0</td>\n",
       "      <td>1.0</td>\n",
       "      <td>1.0</td>\n",
       "      <td>0.5</td>\n",
       "      <td>0.5</td>\n",
       "    </tr>\n",
       "  </tbody>\n",
       "</table>\n",
       "<p>5 rows × 34 columns</p>\n",
       "</div>"
      ],
      "text/plain": [
       "   pokedex_number                   name  generation  status type_1  type_2  \\\n",
       "0               1              Bulbasaur           1  Normal  GRASS  Poison   \n",
       "1               2                Ivysaur           1  Normal  GRASS  Poison   \n",
       "2               3               Venusaur           1  Normal  GRASS  Poison   \n",
       "3               3  VenusaurMega Venusaur           1  Normal  GRASS  Poison   \n",
       "4               4             Charmander           1  Normal   FIRE     NaN   \n",
       "\n",
       "   height_m  weight_pounds  hp  attack  ...  against_ground  against_flying  \\\n",
       "0       0.7      15.211878  45      49  ...             1.0             2.0   \n",
       "1       1.0      28.660060  60      62  ...             1.0             2.0   \n",
       "2       2.0     220.462000  80      82  ...             1.0             2.0   \n",
       "3       2.4     342.818410  80     100  ...             1.0             2.0   \n",
       "4       0.6      18.739270  39      52  ...             2.0             1.0   \n",
       "\n",
       "   against_psychic  against_bug  against_rock against_ghost  against_dragon  \\\n",
       "0              2.0          1.0           1.0           1.0             1.0   \n",
       "1              2.0          1.0           1.0           1.0             1.0   \n",
       "2              2.0          1.0           1.0           1.0             1.0   \n",
       "3              2.0          1.0           1.0           1.0             1.0   \n",
       "4              1.0          0.5           2.0           1.0             1.0   \n",
       "\n",
       "   against_dark  against_steel  against_fairy  \n",
       "0           1.0            1.0            0.5  \n",
       "1           1.0            1.0            0.5  \n",
       "2           1.0            1.0            0.5  \n",
       "3           1.0            1.0            0.5  \n",
       "4           1.0            0.5            0.5  \n",
       "\n",
       "[5 rows x 34 columns]"
      ]
     },
     "execution_count": 9,
     "metadata": {},
     "output_type": "execute_result"
    }
   ],
   "source": [
    "df.head()"
   ]
  },
  {
   "cell_type": "markdown",
   "id": "14aeb8f4-5216-46d9-b7ff-6f3d076e5742",
   "metadata": {},
   "source": [
    "La columna `status` guarda el tipo de pokemon"
   ]
  },
  {
   "cell_type": "code",
   "execution_count": 10,
   "id": "570f0a27-47bb-4381-99a5-6e0b98bf2572",
   "metadata": {},
   "outputs": [
    {
     "data": {
      "text/plain": [
       "array(['Normal', 'Sub Legendary', 'Legendary', 'Mythical'], dtype=object)"
      ]
     },
     "execution_count": 10,
     "metadata": {},
     "output_type": "execute_result"
    }
   ],
   "source": [
    "df['status'].unique()"
   ]
  },
  {
   "cell_type": "code",
   "execution_count": 29,
   "id": "6f21f946-0f84-4a2e-ba78-4a245fad69d0",
   "metadata": {},
   "outputs": [
    {
     "data": {
      "text/plain": [
       "Normal           918\n",
       "Sub Legendary     55\n",
       "Legendary         42\n",
       "Mythical          30\n",
       "Name: status, dtype: int64"
      ]
     },
     "execution_count": 29,
     "metadata": {},
     "output_type": "execute_result"
    }
   ],
   "source": [
    "df['status'].value_counts()"
   ]
  },
  {
   "cell_type": "code",
   "execution_count": 30,
   "id": "efe1df07-986f-407c-81b3-35e1c0386bde",
   "metadata": {},
   "outputs": [
    {
     "name": "stdout",
     "output_type": "stream",
     "text": [
      "Existen 42 pokemon legendarios.\n"
     ]
    }
   ],
   "source": [
    "legendarios = df['status'].value_counts().loc['Legendary']\n",
    "print(f'Existen {legendarios} pokemon legendarios.')"
   ]
  },
  {
   "cell_type": "markdown",
   "id": "464af19a-e2c3-46e7-977d-3a5936f48116",
   "metadata": {},
   "source": [
    "### 4. El tipo de pokemon más poderoso  "
   ]
  },
  {
   "cell_type": "code",
   "execution_count": 43,
   "id": "1134b88c-9945-4e71-b853-9461e53b3720",
   "metadata": {},
   "outputs": [
    {
     "data": {
      "text/html": [
       "<div>\n",
       "<style scoped>\n",
       "    .dataframe tbody tr th:only-of-type {\n",
       "        vertical-align: middle;\n",
       "    }\n",
       "\n",
       "    .dataframe tbody tr th {\n",
       "        vertical-align: top;\n",
       "    }\n",
       "\n",
       "    .dataframe thead th {\n",
       "        text-align: right;\n",
       "    }\n",
       "</style>\n",
       "<table border=\"1\" class=\"dataframe\">\n",
       "  <thead>\n",
       "    <tr style=\"text-align: right;\">\n",
       "      <th></th>\n",
       "      <th>pokedex_number</th>\n",
       "      <th>name</th>\n",
       "      <th>generation</th>\n",
       "      <th>status</th>\n",
       "      <th>type_1</th>\n",
       "      <th>type_2</th>\n",
       "      <th>height_m</th>\n",
       "      <th>weight_pounds</th>\n",
       "      <th>hp</th>\n",
       "      <th>attack</th>\n",
       "      <th>...</th>\n",
       "      <th>against_ground</th>\n",
       "      <th>against_flying</th>\n",
       "      <th>against_psychic</th>\n",
       "      <th>against_bug</th>\n",
       "      <th>against_rock</th>\n",
       "      <th>against_ghost</th>\n",
       "      <th>against_dragon</th>\n",
       "      <th>against_dark</th>\n",
       "      <th>against_steel</th>\n",
       "      <th>against_fairy</th>\n",
       "    </tr>\n",
       "  </thead>\n",
       "  <tbody>\n",
       "    <tr>\n",
       "      <th>0</th>\n",
       "      <td>1</td>\n",
       "      <td>Bulbasaur</td>\n",
       "      <td>1</td>\n",
       "      <td>Normal</td>\n",
       "      <td>GRASS</td>\n",
       "      <td>Poison</td>\n",
       "      <td>0.7</td>\n",
       "      <td>15.211878</td>\n",
       "      <td>45</td>\n",
       "      <td>49</td>\n",
       "      <td>...</td>\n",
       "      <td>1.0</td>\n",
       "      <td>2.0</td>\n",
       "      <td>2.0</td>\n",
       "      <td>1.0</td>\n",
       "      <td>1.0</td>\n",
       "      <td>1.0</td>\n",
       "      <td>1.0</td>\n",
       "      <td>1.0</td>\n",
       "      <td>1.0</td>\n",
       "      <td>0.5</td>\n",
       "    </tr>\n",
       "    <tr>\n",
       "      <th>1</th>\n",
       "      <td>2</td>\n",
       "      <td>Ivysaur</td>\n",
       "      <td>1</td>\n",
       "      <td>Normal</td>\n",
       "      <td>GRASS</td>\n",
       "      <td>Poison</td>\n",
       "      <td>1.0</td>\n",
       "      <td>28.660060</td>\n",
       "      <td>60</td>\n",
       "      <td>62</td>\n",
       "      <td>...</td>\n",
       "      <td>1.0</td>\n",
       "      <td>2.0</td>\n",
       "      <td>2.0</td>\n",
       "      <td>1.0</td>\n",
       "      <td>1.0</td>\n",
       "      <td>1.0</td>\n",
       "      <td>1.0</td>\n",
       "      <td>1.0</td>\n",
       "      <td>1.0</td>\n",
       "      <td>0.5</td>\n",
       "    </tr>\n",
       "    <tr>\n",
       "      <th>2</th>\n",
       "      <td>3</td>\n",
       "      <td>Venusaur</td>\n",
       "      <td>1</td>\n",
       "      <td>Normal</td>\n",
       "      <td>GRASS</td>\n",
       "      <td>Poison</td>\n",
       "      <td>2.0</td>\n",
       "      <td>220.462000</td>\n",
       "      <td>80</td>\n",
       "      <td>82</td>\n",
       "      <td>...</td>\n",
       "      <td>1.0</td>\n",
       "      <td>2.0</td>\n",
       "      <td>2.0</td>\n",
       "      <td>1.0</td>\n",
       "      <td>1.0</td>\n",
       "      <td>1.0</td>\n",
       "      <td>1.0</td>\n",
       "      <td>1.0</td>\n",
       "      <td>1.0</td>\n",
       "      <td>0.5</td>\n",
       "    </tr>\n",
       "    <tr>\n",
       "      <th>3</th>\n",
       "      <td>3</td>\n",
       "      <td>VenusaurMega Venusaur</td>\n",
       "      <td>1</td>\n",
       "      <td>Normal</td>\n",
       "      <td>GRASS</td>\n",
       "      <td>Poison</td>\n",
       "      <td>2.4</td>\n",
       "      <td>342.818410</td>\n",
       "      <td>80</td>\n",
       "      <td>100</td>\n",
       "      <td>...</td>\n",
       "      <td>1.0</td>\n",
       "      <td>2.0</td>\n",
       "      <td>2.0</td>\n",
       "      <td>1.0</td>\n",
       "      <td>1.0</td>\n",
       "      <td>1.0</td>\n",
       "      <td>1.0</td>\n",
       "      <td>1.0</td>\n",
       "      <td>1.0</td>\n",
       "      <td>0.5</td>\n",
       "    </tr>\n",
       "    <tr>\n",
       "      <th>4</th>\n",
       "      <td>4</td>\n",
       "      <td>Charmander</td>\n",
       "      <td>1</td>\n",
       "      <td>Normal</td>\n",
       "      <td>FIRE</td>\n",
       "      <td>NaN</td>\n",
       "      <td>0.6</td>\n",
       "      <td>18.739270</td>\n",
       "      <td>39</td>\n",
       "      <td>52</td>\n",
       "      <td>...</td>\n",
       "      <td>2.0</td>\n",
       "      <td>1.0</td>\n",
       "      <td>1.0</td>\n",
       "      <td>0.5</td>\n",
       "      <td>2.0</td>\n",
       "      <td>1.0</td>\n",
       "      <td>1.0</td>\n",
       "      <td>1.0</td>\n",
       "      <td>0.5</td>\n",
       "      <td>0.5</td>\n",
       "    </tr>\n",
       "  </tbody>\n",
       "</table>\n",
       "<p>5 rows × 34 columns</p>\n",
       "</div>"
      ],
      "text/plain": [
       "   pokedex_number                   name  generation  status type_1  type_2  \\\n",
       "0               1              Bulbasaur           1  Normal  GRASS  Poison   \n",
       "1               2                Ivysaur           1  Normal  GRASS  Poison   \n",
       "2               3               Venusaur           1  Normal  GRASS  Poison   \n",
       "3               3  VenusaurMega Venusaur           1  Normal  GRASS  Poison   \n",
       "4               4             Charmander           1  Normal   FIRE     NaN   \n",
       "\n",
       "   height_m  weight_pounds  hp  attack  ...  against_ground  against_flying  \\\n",
       "0       0.7      15.211878  45      49  ...             1.0             2.0   \n",
       "1       1.0      28.660060  60      62  ...             1.0             2.0   \n",
       "2       2.0     220.462000  80      82  ...             1.0             2.0   \n",
       "3       2.4     342.818410  80     100  ...             1.0             2.0   \n",
       "4       0.6      18.739270  39      52  ...             2.0             1.0   \n",
       "\n",
       "   against_psychic  against_bug  against_rock against_ghost  against_dragon  \\\n",
       "0              2.0          1.0           1.0           1.0             1.0   \n",
       "1              2.0          1.0           1.0           1.0             1.0   \n",
       "2              2.0          1.0           1.0           1.0             1.0   \n",
       "3              2.0          1.0           1.0           1.0             1.0   \n",
       "4              1.0          0.5           2.0           1.0             1.0   \n",
       "\n",
       "   against_dark  against_steel  against_fairy  \n",
       "0           1.0            1.0            0.5  \n",
       "1           1.0            1.0            0.5  \n",
       "2           1.0            1.0            0.5  \n",
       "3           1.0            1.0            0.5  \n",
       "4           1.0            0.5            0.5  \n",
       "\n",
       "[5 rows x 34 columns]"
      ]
     },
     "execution_count": 43,
     "metadata": {},
     "output_type": "execute_result"
    }
   ],
   "source": [
    "df.head()"
   ]
  },
  {
   "cell_type": "markdown",
   "id": "fc5460d2-3d1b-4a35-9b01-2e8576c31c60",
   "metadata": {},
   "source": [
    "Limpio las columnas para rechazar las columnas de ataque contra otros tipos"
   ]
  },
  {
   "cell_type": "code",
   "execution_count": 47,
   "id": "47c13a1a-cc7e-4798-9580-636154a88aaa",
   "metadata": {},
   "outputs": [
    {
     "data": {
      "text/plain": [
       "16"
      ]
     },
     "execution_count": 47,
     "metadata": {},
     "output_type": "execute_result"
    }
   ],
   "source": [
    "list(df.columns).index('against_normal')"
   ]
  },
  {
   "cell_type": "code",
   "execution_count": 48,
   "id": "c9e8697b-beb1-4caa-80eb-9b3a35d10c2f",
   "metadata": {},
   "outputs": [
    {
     "data": {
      "text/html": [
       "<div>\n",
       "<style scoped>\n",
       "    .dataframe tbody tr th:only-of-type {\n",
       "        vertical-align: middle;\n",
       "    }\n",
       "\n",
       "    .dataframe tbody tr th {\n",
       "        vertical-align: top;\n",
       "    }\n",
       "\n",
       "    .dataframe thead th {\n",
       "        text-align: right;\n",
       "    }\n",
       "</style>\n",
       "<table border=\"1\" class=\"dataframe\">\n",
       "  <thead>\n",
       "    <tr style=\"text-align: right;\">\n",
       "      <th></th>\n",
       "      <th>pokedex_number</th>\n",
       "      <th>name</th>\n",
       "      <th>generation</th>\n",
       "      <th>status</th>\n",
       "      <th>type_1</th>\n",
       "      <th>type_2</th>\n",
       "      <th>height_m</th>\n",
       "      <th>weight_pounds</th>\n",
       "      <th>hp</th>\n",
       "      <th>attack</th>\n",
       "      <th>defense</th>\n",
       "      <th>sp_attack</th>\n",
       "      <th>sp_defense</th>\n",
       "      <th>speed</th>\n",
       "      <th>catch_rate</th>\n",
       "      <th>percentage_male</th>\n",
       "    </tr>\n",
       "  </thead>\n",
       "  <tbody>\n",
       "    <tr>\n",
       "      <th>0</th>\n",
       "      <td>1</td>\n",
       "      <td>Bulbasaur</td>\n",
       "      <td>1</td>\n",
       "      <td>Normal</td>\n",
       "      <td>GRASS</td>\n",
       "      <td>Poison</td>\n",
       "      <td>0.7</td>\n",
       "      <td>15.211878</td>\n",
       "      <td>45</td>\n",
       "      <td>49</td>\n",
       "      <td>49</td>\n",
       "      <td>65</td>\n",
       "      <td>65</td>\n",
       "      <td>45</td>\n",
       "      <td>45.0</td>\n",
       "      <td>87.5%</td>\n",
       "    </tr>\n",
       "    <tr>\n",
       "      <th>1</th>\n",
       "      <td>2</td>\n",
       "      <td>Ivysaur</td>\n",
       "      <td>1</td>\n",
       "      <td>Normal</td>\n",
       "      <td>GRASS</td>\n",
       "      <td>Poison</td>\n",
       "      <td>1.0</td>\n",
       "      <td>28.660060</td>\n",
       "      <td>60</td>\n",
       "      <td>62</td>\n",
       "      <td>63</td>\n",
       "      <td>80</td>\n",
       "      <td>80</td>\n",
       "      <td>60</td>\n",
       "      <td>45.0</td>\n",
       "      <td>87.5%</td>\n",
       "    </tr>\n",
       "    <tr>\n",
       "      <th>2</th>\n",
       "      <td>3</td>\n",
       "      <td>Venusaur</td>\n",
       "      <td>1</td>\n",
       "      <td>Normal</td>\n",
       "      <td>GRASS</td>\n",
       "      <td>Poison</td>\n",
       "      <td>2.0</td>\n",
       "      <td>220.462000</td>\n",
       "      <td>80</td>\n",
       "      <td>82</td>\n",
       "      <td>83</td>\n",
       "      <td>100</td>\n",
       "      <td>100</td>\n",
       "      <td>80</td>\n",
       "      <td>45.0</td>\n",
       "      <td>87.5%</td>\n",
       "    </tr>\n",
       "    <tr>\n",
       "      <th>3</th>\n",
       "      <td>3</td>\n",
       "      <td>VenusaurMega Venusaur</td>\n",
       "      <td>1</td>\n",
       "      <td>Normal</td>\n",
       "      <td>GRASS</td>\n",
       "      <td>Poison</td>\n",
       "      <td>2.4</td>\n",
       "      <td>342.818410</td>\n",
       "      <td>80</td>\n",
       "      <td>100</td>\n",
       "      <td>123</td>\n",
       "      <td>122</td>\n",
       "      <td>120</td>\n",
       "      <td>80</td>\n",
       "      <td>45.0</td>\n",
       "      <td>87.5%</td>\n",
       "    </tr>\n",
       "    <tr>\n",
       "      <th>4</th>\n",
       "      <td>4</td>\n",
       "      <td>Charmander</td>\n",
       "      <td>1</td>\n",
       "      <td>Normal</td>\n",
       "      <td>FIRE</td>\n",
       "      <td>NaN</td>\n",
       "      <td>0.6</td>\n",
       "      <td>18.739270</td>\n",
       "      <td>39</td>\n",
       "      <td>52</td>\n",
       "      <td>43</td>\n",
       "      <td>60</td>\n",
       "      <td>50</td>\n",
       "      <td>65</td>\n",
       "      <td>45.0</td>\n",
       "      <td>87.5%</td>\n",
       "    </tr>\n",
       "  </tbody>\n",
       "</table>\n",
       "</div>"
      ],
      "text/plain": [
       "   pokedex_number                   name  generation  status type_1  type_2  \\\n",
       "0               1              Bulbasaur           1  Normal  GRASS  Poison   \n",
       "1               2                Ivysaur           1  Normal  GRASS  Poison   \n",
       "2               3               Venusaur           1  Normal  GRASS  Poison   \n",
       "3               3  VenusaurMega Venusaur           1  Normal  GRASS  Poison   \n",
       "4               4             Charmander           1  Normal   FIRE     NaN   \n",
       "\n",
       "   height_m  weight_pounds  hp  attack  defense  sp_attack  sp_defense  speed  \\\n",
       "0       0.7      15.211878  45      49       49         65          65     45   \n",
       "1       1.0      28.660060  60      62       63         80          80     60   \n",
       "2       2.0     220.462000  80      82       83        100         100     80   \n",
       "3       2.4     342.818410  80     100      123        122         120     80   \n",
       "4       0.6      18.739270  39      52       43         60          50     65   \n",
       "\n",
       "   catch_rate percentage_male  \n",
       "0        45.0           87.5%  \n",
       "1        45.0           87.5%  \n",
       "2        45.0           87.5%  \n",
       "3        45.0           87.5%  \n",
       "4        45.0           87.5%  "
      ]
     },
     "execution_count": 48,
     "metadata": {},
     "output_type": "execute_result"
    }
   ],
   "source": [
    "clean_columns = list(df.columns)[:16]\n",
    "df2 = df[clean_columns]\n",
    "df2.head()"
   ]
  },
  {
   "cell_type": "code",
   "execution_count": 50,
   "id": "59997882-1f04-4d12-b0fd-f2bb4ce73622",
   "metadata": {},
   "outputs": [
    {
     "data": {
      "text/html": [
       "<div>\n",
       "<style scoped>\n",
       "    .dataframe tbody tr th:only-of-type {\n",
       "        vertical-align: middle;\n",
       "    }\n",
       "\n",
       "    .dataframe tbody tr th {\n",
       "        vertical-align: top;\n",
       "    }\n",
       "\n",
       "    .dataframe thead th {\n",
       "        text-align: right;\n",
       "    }\n",
       "</style>\n",
       "<table border=\"1\" class=\"dataframe\">\n",
       "  <thead>\n",
       "    <tr style=\"text-align: right;\">\n",
       "      <th></th>\n",
       "      <th>type_1</th>\n",
       "      <th>attack</th>\n",
       "    </tr>\n",
       "  </thead>\n",
       "  <tbody>\n",
       "    <tr>\n",
       "      <th>194</th>\n",
       "      <td>PSYCHIC</td>\n",
       "      <td>190</td>\n",
       "    </tr>\n",
       "    <tr>\n",
       "      <th>264</th>\n",
       "      <td>BUG</td>\n",
       "      <td>185</td>\n",
       "    </tr>\n",
       "    <tr>\n",
       "      <th>931</th>\n",
       "      <td>GRASS</td>\n",
       "      <td>181</td>\n",
       "    </tr>\n",
       "    <tr>\n",
       "      <th>462</th>\n",
       "      <td>GROUND</td>\n",
       "      <td>180</td>\n",
       "    </tr>\n",
       "    <tr>\n",
       "      <th>464</th>\n",
       "      <td>DRAGON</td>\n",
       "      <td>180</td>\n",
       "    </tr>\n",
       "    <tr>\n",
       "      <th>...</th>\n",
       "      <td>...</td>\n",
       "      <td>...</td>\n",
       "    </tr>\n",
       "    <tr>\n",
       "      <th>294</th>\n",
       "      <td>NORMAL</td>\n",
       "      <td>10</td>\n",
       "    </tr>\n",
       "    <tr>\n",
       "      <th>262</th>\n",
       "      <td>BUG</td>\n",
       "      <td>10</td>\n",
       "    </tr>\n",
       "    <tr>\n",
       "      <th>166</th>\n",
       "      <td>WATER</td>\n",
       "      <td>10</td>\n",
       "    </tr>\n",
       "    <tr>\n",
       "      <th>526</th>\n",
       "      <td>NORMAL</td>\n",
       "      <td>5</td>\n",
       "    </tr>\n",
       "    <tr>\n",
       "      <th>147</th>\n",
       "      <td>NORMAL</td>\n",
       "      <td>5</td>\n",
       "    </tr>\n",
       "  </tbody>\n",
       "</table>\n",
       "<p>1045 rows × 2 columns</p>\n",
       "</div>"
      ],
      "text/plain": [
       "      type_1  attack\n",
       "194  PSYCHIC     190\n",
       "264      BUG     185\n",
       "931    GRASS     181\n",
       "462   GROUND     180\n",
       "464   DRAGON     180\n",
       "..       ...     ...\n",
       "294   NORMAL      10\n",
       "262      BUG      10\n",
       "166    WATER      10\n",
       "526   NORMAL       5\n",
       "147   NORMAL       5\n",
       "\n",
       "[1045 rows x 2 columns]"
      ]
     },
     "execution_count": 50,
     "metadata": {},
     "output_type": "execute_result"
    }
   ],
   "source": [
    "attack_points = df2[['type_1','attack']].sort_values('attack', ascending=False)\n",
    "attack_points"
   ]
  },
  {
   "cell_type": "code",
   "execution_count": 57,
   "id": "d0c25f04-f2b4-4397-ae51-c52cc08965a8",
   "metadata": {},
   "outputs": [
    {
     "name": "stdout",
     "output_type": "stream",
     "text": [
      "The most powerful pokemon type is Psychic, with 190 attack points.\n"
     ]
    }
   ],
   "source": [
    "most_powerful = attack_points.iloc[0]\n",
    "most_powerful_type = most_powerful['type_1'].capitalize()\n",
    "most_powerful_attack = most_powerful['attack']\n",
    "print(f'The most powerful pokemon type is {most_powerful_type}, with {most_powerful_attack} attack points.')"
   ]
  },
  {
   "cell_type": "markdown",
   "id": "e416db49-c827-4073-ae1b-587b4028c8e7",
   "metadata": {},
   "source": [
    "### 5. ¿Cuáles son los pokemon más grandes? ¿Y los más pesaados? ¿Y los menos densos?"
   ]
  },
  {
   "cell_type": "code",
   "execution_count": 58,
   "id": "482aec21-0cc4-46d6-93ea-01525e1563bb",
   "metadata": {},
   "outputs": [
    {
     "data": {
      "text/plain": [
       "Index(['pokedex_number', 'name', 'generation', 'status', 'type_1', 'type_2',\n",
       "       'height_m', 'weight_pounds', 'hp', 'attack', 'defense', 'sp_attack',\n",
       "       'sp_defense', 'speed', 'catch_rate', 'percentage_male'],\n",
       "      dtype='object')"
      ]
     },
     "execution_count": 58,
     "metadata": {},
     "output_type": "execute_result"
    }
   ],
   "source": [
    "df2.columns"
   ]
  },
  {
   "cell_type": "code",
   "execution_count": 61,
   "id": "0da19cd2-e936-4be0-aa8a-83989352f15e",
   "metadata": {},
   "outputs": [],
   "source": [
    "tallest_pokemons = df[['name', 'height_m']].sort_values('height_m', ascending=False).head(3)\n",
    "heaviest_pokemons = df[['name', 'weight_pounds']].sort_values('weight_pounds', ascending=False).head(3)\n",
    "#densest_pokemons = df[['name', 'height_m']].sort_values('height_m')"
   ]
  },
  {
   "cell_type": "markdown",
   "id": "85cf4362-a0c4-475b-8f9c-424e5fc8c02c",
   "metadata": {},
   "source": [
    "Los 3 pokemon más grandes son:"
   ]
  },
  {
   "cell_type": "code",
   "execution_count": 62,
   "id": "2ed0b1d9-3bec-4116-8168-db0d9c05fe28",
   "metadata": {},
   "outputs": [
    {
     "data": {
      "text/html": [
       "<div>\n",
       "<style scoped>\n",
       "    .dataframe tbody tr th:only-of-type {\n",
       "        vertical-align: middle;\n",
       "    }\n",
       "\n",
       "    .dataframe tbody tr th {\n",
       "        vertical-align: top;\n",
       "    }\n",
       "\n",
       "    .dataframe thead th {\n",
       "        text-align: right;\n",
       "    }\n",
       "</style>\n",
       "<table border=\"1\" class=\"dataframe\">\n",
       "  <thead>\n",
       "    <tr style=\"text-align: right;\">\n",
       "      <th></th>\n",
       "      <th>name</th>\n",
       "      <th>height_m</th>\n",
       "    </tr>\n",
       "  </thead>\n",
       "  <tbody>\n",
       "    <tr>\n",
       "      <th>1033</th>\n",
       "      <td>Eternatus Eternamax</td>\n",
       "      <td>100.0</td>\n",
       "    </tr>\n",
       "    <tr>\n",
       "      <th>1032</th>\n",
       "      <td>Eternatus</td>\n",
       "      <td>20.0</td>\n",
       "    </tr>\n",
       "    <tr>\n",
       "      <th>386</th>\n",
       "      <td>Wailord</td>\n",
       "      <td>14.5</td>\n",
       "    </tr>\n",
       "  </tbody>\n",
       "</table>\n",
       "</div>"
      ],
      "text/plain": [
       "                     name  height_m\n",
       "1033  Eternatus Eternamax     100.0\n",
       "1032            Eternatus      20.0\n",
       "386               Wailord      14.5"
      ]
     },
     "execution_count": 62,
     "metadata": {},
     "output_type": "execute_result"
    }
   ],
   "source": [
    "tallest_pokemons"
   ]
  },
  {
   "cell_type": "markdown",
   "id": "7a16fdeb-2d2d-4162-a51b-a235f5ae9da0",
   "metadata": {},
   "source": [
    "Los 3 pokemon más pesados son:"
   ]
  },
  {
   "cell_type": "code",
   "execution_count": 63,
   "id": "31021713-d260-4acb-ba8c-ceb9be6b144a",
   "metadata": {},
   "outputs": [
    {
     "data": {
      "text/html": [
       "<div>\n",
       "<style scoped>\n",
       "    .dataframe tbody tr th:only-of-type {\n",
       "        vertical-align: middle;\n",
       "    }\n",
       "\n",
       "    .dataframe tbody tr th {\n",
       "        vertical-align: top;\n",
       "    }\n",
       "\n",
       "    .dataframe thead th {\n",
       "        text-align: right;\n",
       "    }\n",
       "</style>\n",
       "<table border=\"1\" class=\"dataframe\">\n",
       "  <thead>\n",
       "    <tr style=\"text-align: right;\">\n",
       "      <th></th>\n",
       "      <th>name</th>\n",
       "      <th>weight_pounds</th>\n",
       "    </tr>\n",
       "  </thead>\n",
       "  <tbody>\n",
       "    <tr>\n",
       "      <th>930</th>\n",
       "      <td>Celesteela</td>\n",
       "      <td>2204.399538</td>\n",
       "    </tr>\n",
       "    <tr>\n",
       "      <th>923</th>\n",
       "      <td>Cosmoem</td>\n",
       "      <td>2204.399538</td>\n",
       "    </tr>\n",
       "    <tr>\n",
       "      <th>462</th>\n",
       "      <td>Primal Groudon</td>\n",
       "      <td>2203.958614</td>\n",
       "    </tr>\n",
       "  </tbody>\n",
       "</table>\n",
       "</div>"
      ],
      "text/plain": [
       "               name  weight_pounds\n",
       "930      Celesteela    2204.399538\n",
       "923         Cosmoem    2204.399538\n",
       "462  Primal Groudon    2203.958614"
      ]
     },
     "execution_count": 63,
     "metadata": {},
     "output_type": "execute_result"
    }
   ],
   "source": [
    "heaviest_pokemons"
   ]
  },
  {
   "cell_type": "code",
   "execution_count": 64,
   "id": "54bac319-0bea-43d2-b952-6f05fa5154ac",
   "metadata": {},
   "outputs": [
    {
     "data": {
      "text/plain": [
       "Index(['pokedex_number', 'name', 'generation', 'status', 'type_1', 'type_2',\n",
       "       'height_m', 'weight_pounds', 'hp', 'attack', 'defense', 'sp_attack',\n",
       "       'sp_defense', 'speed', 'catch_rate', 'percentage_male'],\n",
       "      dtype='object')"
      ]
     },
     "execution_count": 64,
     "metadata": {},
     "output_type": "execute_result"
    }
   ],
   "source": [
    "df2.columns"
   ]
  },
  {
   "cell_type": "markdown",
   "id": "838277ff-c5da-4c69-9edf-9c7386176432",
   "metadata": {},
   "source": [
    "### 6. ¿Cuántos pokemons son machos y cuántos son hembras?"
   ]
  },
  {
   "cell_type": "markdown",
   "id": "ebf9131a-fbb4-4119-92a4-33b715fdfc3d",
   "metadata": {},
   "source": [
    "Creo columna con porcentaje de macho en formato numérico"
   ]
  },
  {
   "cell_type": "code",
   "execution_count": 37,
   "id": "340a05d4-6646-4ec4-b638-edc0a746ae30",
   "metadata": {},
   "outputs": [
    {
     "data": {
      "text/plain": [
       "0    87.5\n",
       "1    87.5\n",
       "2    87.5\n",
       "3    87.5\n",
       "4    87.5\n",
       "Name: percentage_male_numeric, dtype: float64"
      ]
     },
     "execution_count": 37,
     "metadata": {},
     "output_type": "execute_result"
    }
   ],
   "source": [
    "df['percentage_male_numeric'] = df['percentage_male'].apply(lambda x: float(x.replace('%', '')) )\n",
    "df['percentage_male_numeric'].head()"
   ]
  },
  {
   "cell_type": "code",
   "execution_count": 38,
   "id": "13d43a02-d5d2-4db1-8ac9-d89c2600a687",
   "metadata": {},
   "outputs": [],
   "source": [
    "male_pokemons = df[df['percentage_male_numeric'] == 100]\n",
    "female_pokemons = df[df['percentage_male_numeric'] == 0]\n",
    "male_number = male_pokemons.shape[0]\n",
    "female_number = female_pokemons.shape[0]"
   ]
  },
  {
   "cell_type": "code",
   "execution_count": 39,
   "id": "3d4d9a86-de03-494f-b224-c15514e34e20",
   "metadata": {},
   "outputs": [
    {
     "name": "stdout",
     "output_type": "stream",
     "text": [
      "Hay 29 pokemon masculinos y 210 femeninos.\n"
     ]
    }
   ],
   "source": [
    "print(f'Hay {male_number} pokemon masculinos y {female_number} femeninos.')"
   ]
  },
  {
   "cell_type": "code",
   "execution_count": 84,
   "id": "f7e0d616-93a5-4264-92d6-89be9190e848",
   "metadata": {},
   "outputs": [],
   "source": [
    "is_male = df['percentage_male_numeric'] == 100\n",
    "is_female = df['percentage_male_numeric'] == 0\n",
    "totally_gender_defined_pokemons = df[is_male | is_female]"
   ]
  },
  {
   "cell_type": "code",
   "execution_count": 82,
   "id": "24290326-6b96-41bb-81a2-765344f0933b",
   "metadata": {},
   "outputs": [],
   "source": [
    "def gender_assignment(numeric_gender):\n",
    "       \n",
    "    if numeric_gender == 100:\n",
    "        gender = 'male'\n",
    "    elif numeric_gender == 0:\n",
    "        gender = 'female'\n",
    "    else:\n",
    "        gender = 'undefined'\n",
    "    return gender"
   ]
  },
  {
   "cell_type": "code",
   "execution_count": 105,
   "id": "0d954965-a61f-4d9f-862c-e3c8e6b2e6fd",
   "metadata": {},
   "outputs": [],
   "source": [
    "df['gender'] = df['percentage_male_numeric'].apply(gender_assignment)\n",
    "df_gender = df.drop(['percentage_male_numeric', 'percentage_male'], axis=1)"
   ]
  },
  {
   "cell_type": "code",
   "execution_count": 104,
   "id": "0f3f746b-cbf8-4d08-b67e-0b2730893f57",
   "metadata": {},
   "outputs": [
    {
     "data": {
      "text/html": [
       "<div>\n",
       "<style scoped>\n",
       "    .dataframe tbody tr th:only-of-type {\n",
       "        vertical-align: middle;\n",
       "    }\n",
       "\n",
       "    .dataframe tbody tr th {\n",
       "        vertical-align: top;\n",
       "    }\n",
       "\n",
       "    .dataframe thead tr th {\n",
       "        text-align: left;\n",
       "    }\n",
       "\n",
       "    .dataframe thead tr:last-of-type th {\n",
       "        text-align: right;\n",
       "    }\n",
       "</style>\n",
       "<table border=\"1\" class=\"dataframe\">\n",
       "  <thead>\n",
       "    <tr>\n",
       "      <th>name</th>\n",
       "    </tr>\n",
       "  </thead>\n",
       "  <tbody>\n",
       "    <tr>\n",
       "      <th>Abomasnow</th>\n",
       "    </tr>\n",
       "    <tr>\n",
       "      <th>AbomasnowMega Abomasnow</th>\n",
       "    </tr>\n",
       "    <tr>\n",
       "      <th>Abra</th>\n",
       "    </tr>\n",
       "    <tr>\n",
       "      <th>Absol</th>\n",
       "    </tr>\n",
       "    <tr>\n",
       "      <th>AbsolMega Absol</th>\n",
       "    </tr>\n",
       "    <tr>\n",
       "      <th>...</th>\n",
       "    </tr>\n",
       "    <tr>\n",
       "      <th>Zubat</th>\n",
       "    </tr>\n",
       "    <tr>\n",
       "      <th>Zweilous</th>\n",
       "    </tr>\n",
       "    <tr>\n",
       "      <th>Zygarde 10% Forme</th>\n",
       "    </tr>\n",
       "    <tr>\n",
       "      <th>Zygarde 50% Forme</th>\n",
       "    </tr>\n",
       "    <tr>\n",
       "      <th>Zygarde Complete Forme</th>\n",
       "    </tr>\n",
       "  </tbody>\n",
       "</table>\n",
       "<p>1045 rows × 0 columns</p>\n",
       "</div>"
      ],
      "text/plain": [
       "Empty DataFrame\n",
       "Columns: []\n",
       "Index: [Abomasnow, AbomasnowMega Abomasnow, Abra, Absol, AbsolMega Absol, Accelgor, Aegislash Blade Forme, Aegislash Shield Forme, Aerodactyl, AerodactylMega Aerodactyl, Aggron, AggronMega Aggron, Aipom, Alakazam, AlakazamMega Alakazam, Alcremie, Alolan Diglett, Alolan Dugtrio, Alolan Exeggutor, Alolan Geodude, Alolan Golem, Alolan Graveler, Alolan Grimer, Alolan Marowak, Alolan Meowth, Alolan Muk, Alolan Ninetales, Alolan Persian, Alolan Raichu, Alolan Raticate, Alolan Rattata, Alolan Sandshrew, Alolan Sandslash, Alolan Vulpix, Alomomola, Altaria, AltariaMega Altaria, Amaura, Ambipom, Amoonguss, Ampharos, AmpharosMega Ampharos, Anorith, Appletun, Applin, Araquanid, Arbok, Arcanine, Arceus, Archen, Archeops, Arctovish, Arctozolt, Ariados, Armaldo, Aromatisse, Aron, Arrokuda, Articuno, Ash-Greninja, Audino, AudinoMega Audino, Aurorus, Avalugg, Axew, Azelf, Azumarill, Azurill, Bagon, Baltoy, Banette, BanetteMega Banette, Barbaracle, Barboach, Barraskewda, Basculin Blue-Striped Form, Basculin Red-Striped Form, Bastiodon, Bayleef, Beartic, Beautifly, Beedrill, BeedrillMega Beedrill, Beheeyem, Beldum, Bellossom, Bellsprout, Bergmite, Bewear, Bibarel, Bidoof, Binacle, Bisharp, Blacephalon, Black Kyurem, Blastoise, BlastoiseMega Blastoise, Blaziken, BlazikenMega Blaziken, Blipbug, ...]\n",
       "\n",
       "[1045 rows x 0 columns]"
      ]
     },
     "execution_count": 104,
     "metadata": {},
     "output_type": "execute_result"
    }
   ],
   "source": [
    "df_gender"
   ]
  },
  {
   "cell_type": "code",
   "execution_count": null,
   "id": "66e214ad-c381-43d8-88e9-1bf9b6ad89c3",
   "metadata": {},
   "outputs": [],
   "source": []
  }
 ],
 "metadata": {
  "kernelspec": {
   "display_name": "Python 3 (ipykernel)",
   "language": "python",
   "name": "python3"
  },
  "language_info": {
   "codemirror_mode": {
    "name": "ipython",
    "version": 3
   },
   "file_extension": ".py",
   "mimetype": "text/x-python",
   "name": "python",
   "nbconvert_exporter": "python",
   "pygments_lexer": "ipython3",
   "version": "3.10.4"
  }
 },
 "nbformat": 4,
 "nbformat_minor": 5
}
