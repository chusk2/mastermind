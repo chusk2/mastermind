{
 "cells": [
  {
   "cell_type": "markdown",
   "id": "98d0169d-0911-4e08-b1f4-7a5a70fa3b68",
   "metadata": {
    "tags": []
   },
   "source": [
    "## Obtención y limpieza de datos"
   ]
  },
  {
   "cell_type": "code",
   "execution_count": 2,
   "id": "de77d7b7-e41c-4ee6-a078-55575f6362c1",
   "metadata": {},
   "outputs": [],
   "source": [
    "import pandas as pd"
   ]
  },
  {
   "cell_type": "code",
   "execution_count": 3,
   "id": "921bb728-94ed-4774-bc29-865ceec4b01c",
   "metadata": {},
   "outputs": [
    {
     "data": {
      "text/html": [
       "<div>\n",
       "<style scoped>\n",
       "    .dataframe tbody tr th:only-of-type {\n",
       "        vertical-align: middle;\n",
       "    }\n",
       "\n",
       "    .dataframe tbody tr th {\n",
       "        vertical-align: top;\n",
       "    }\n",
       "\n",
       "    .dataframe thead th {\n",
       "        text-align: right;\n",
       "    }\n",
       "</style>\n",
       "<table border=\"1\" class=\"dataframe\">\n",
       "  <thead>\n",
       "    <tr style=\"text-align: right;\">\n",
       "      <th></th>\n",
       "      <th>pokedex_number</th>\n",
       "      <th>name</th>\n",
       "      <th>generation</th>\n",
       "      <th>status</th>\n",
       "      <th>type_1</th>\n",
       "      <th>type_2</th>\n",
       "      <th>height_m</th>\n",
       "      <th>weight_pounds</th>\n",
       "      <th>hp</th>\n",
       "      <th>attack</th>\n",
       "      <th>...</th>\n",
       "      <th>against_ground</th>\n",
       "      <th>against_flying</th>\n",
       "      <th>against_psychic</th>\n",
       "      <th>against_bug</th>\n",
       "      <th>against_rock</th>\n",
       "      <th>against_ghost</th>\n",
       "      <th>against_dragon</th>\n",
       "      <th>against_dark</th>\n",
       "      <th>against_steel</th>\n",
       "      <th>against_fairy</th>\n",
       "    </tr>\n",
       "  </thead>\n",
       "  <tbody>\n",
       "    <tr>\n",
       "      <th>0</th>\n",
       "      <td>1</td>\n",
       "      <td>Bulbasaur</td>\n",
       "      <td>1</td>\n",
       "      <td>Normal</td>\n",
       "      <td>GRASS</td>\n",
       "      <td>Poison</td>\n",
       "      <td>0.7</td>\n",
       "      <td>15.211878</td>\n",
       "      <td>45</td>\n",
       "      <td>49</td>\n",
       "      <td>...</td>\n",
       "      <td>1.0</td>\n",
       "      <td>2.0</td>\n",
       "      <td>2.0</td>\n",
       "      <td>1.0</td>\n",
       "      <td>1.0</td>\n",
       "      <td>1.0</td>\n",
       "      <td>1.0</td>\n",
       "      <td>1.0</td>\n",
       "      <td>1.0</td>\n",
       "      <td>0.5</td>\n",
       "    </tr>\n",
       "    <tr>\n",
       "      <th>1</th>\n",
       "      <td>2</td>\n",
       "      <td>Ivysaur</td>\n",
       "      <td>1</td>\n",
       "      <td>Normal</td>\n",
       "      <td>GRASS</td>\n",
       "      <td>Poison</td>\n",
       "      <td>1.0</td>\n",
       "      <td>28.660060</td>\n",
       "      <td>60</td>\n",
       "      <td>62</td>\n",
       "      <td>...</td>\n",
       "      <td>1.0</td>\n",
       "      <td>2.0</td>\n",
       "      <td>2.0</td>\n",
       "      <td>1.0</td>\n",
       "      <td>1.0</td>\n",
       "      <td>1.0</td>\n",
       "      <td>1.0</td>\n",
       "      <td>1.0</td>\n",
       "      <td>1.0</td>\n",
       "      <td>0.5</td>\n",
       "    </tr>\n",
       "    <tr>\n",
       "      <th>2</th>\n",
       "      <td>3</td>\n",
       "      <td>Venusaur</td>\n",
       "      <td>1</td>\n",
       "      <td>Normal</td>\n",
       "      <td>GRASS</td>\n",
       "      <td>Poison</td>\n",
       "      <td>2.0</td>\n",
       "      <td>220.462000</td>\n",
       "      <td>80</td>\n",
       "      <td>82</td>\n",
       "      <td>...</td>\n",
       "      <td>1.0</td>\n",
       "      <td>2.0</td>\n",
       "      <td>2.0</td>\n",
       "      <td>1.0</td>\n",
       "      <td>1.0</td>\n",
       "      <td>1.0</td>\n",
       "      <td>1.0</td>\n",
       "      <td>1.0</td>\n",
       "      <td>1.0</td>\n",
       "      <td>0.5</td>\n",
       "    </tr>\n",
       "  </tbody>\n",
       "</table>\n",
       "<p>3 rows × 34 columns</p>\n",
       "</div>"
      ],
      "text/plain": [
       "   pokedex_number       name  generation  status type_1  type_2  height_m  \\\n",
       "0               1  Bulbasaur           1  Normal  GRASS  Poison       0.7   \n",
       "1               2    Ivysaur           1  Normal  GRASS  Poison       1.0   \n",
       "2               3   Venusaur           1  Normal  GRASS  Poison       2.0   \n",
       "\n",
       "   weight_pounds  hp  attack  ...  against_ground  against_flying  \\\n",
       "0      15.211878  45      49  ...             1.0             2.0   \n",
       "1      28.660060  60      62  ...             1.0             2.0   \n",
       "2     220.462000  80      82  ...             1.0             2.0   \n",
       "\n",
       "   against_psychic  against_bug  against_rock against_ghost  against_dragon  \\\n",
       "0              2.0          1.0           1.0           1.0             1.0   \n",
       "1              2.0          1.0           1.0           1.0             1.0   \n",
       "2              2.0          1.0           1.0           1.0             1.0   \n",
       "\n",
       "   against_dark  against_steel  against_fairy  \n",
       "0           1.0            1.0            0.5  \n",
       "1           1.0            1.0            0.5  \n",
       "2           1.0            1.0            0.5  \n",
       "\n",
       "[3 rows x 34 columns]"
      ]
     },
     "execution_count": 3,
     "metadata": {},
     "output_type": "execute_result"
    }
   ],
   "source": [
    "df = pd.read_csv('pokedex_mastermind.csv', index_col=0)\n",
    "df.head(3)"
   ]
  },
  {
   "cell_type": "markdown",
   "id": "475bae37-adb3-4ce9-8981-3186b21a1a41",
   "metadata": {},
   "source": [
    "Creado backup del dataframe"
   ]
  },
  {
   "cell_type": "code",
   "execution_count": 3,
   "id": "edf3f633-8aa1-4d91-aa92-f3784699c75a",
   "metadata": {},
   "outputs": [],
   "source": [
    "df_backup = df.copy(deep=True)"
   ]
  },
  {
   "cell_type": "markdown",
   "id": "c6215f12-7727-4632-b860-b2d62fb7978d",
   "metadata": {},
   "source": [
    "Listado de columnas"
   ]
  },
  {
   "cell_type": "code",
   "execution_count": 8,
   "id": "8a9c701e-2ca6-4eeb-a962-10c5030f6d14",
   "metadata": {},
   "outputs": [
    {
     "data": {
      "text/plain": [
       "Index(['pokedex_number', 'name', 'generation', 'status', 'type_1', 'type_2',\n",
       "       'height_m', 'weight_pounds', 'hp', 'attack', 'defense', 'sp_attack',\n",
       "       'sp_defense', 'speed', 'catch_rate', 'percentage_male',\n",
       "       'against_normal', 'against_fire', 'against_water', 'against_electric',\n",
       "       'against_grass', 'against_ice', 'against_fight', 'against_poison',\n",
       "       'against_ground', 'against_flying', 'against_psychic', 'against_bug',\n",
       "       'against_rock', 'against_ghost', 'against_dragon', 'against_dark',\n",
       "       'against_steel', 'against_fairy'],\n",
       "      dtype='object')"
      ]
     },
     "execution_count": 8,
     "metadata": {},
     "output_type": "execute_result"
    }
   ],
   "source": [
    "df.columns"
   ]
  },
  {
   "cell_type": "markdown",
   "id": "373136be-897d-46ca-a4e6-f28e02e17d2b",
   "metadata": {
    "jp-MarkdownHeadingCollapsed": true,
    "tags": []
   },
   "source": [
    "## 1. ¿Cuál es el tipo de pokemon más común?"
   ]
  },
  {
   "cell_type": "code",
   "execution_count": 31,
   "id": "cdb95398-4893-4c01-8242-1d113dbcb8e6",
   "metadata": {},
   "outputs": [
    {
     "data": {
      "text/plain": [
       "WATER       134\n",
       "NORMAL      115\n",
       "GRASS        91\n",
       "BUG          81\n",
       "PSYCHIC      81\n",
       "FIRE         65\n",
       "ELECTRIC     62\n",
       "ROCK         60\n",
       "DARK         46\n",
       "GHOST        42\n",
       "FIGHTING     42\n",
       "POISON       41\n",
       "GROUND       41\n",
       "DRAGON       41\n",
       "ICE          37\n",
       "STEEL        36\n",
       "FAIRY        22\n",
       "FLYING        8\n",
       "Name: type_1, dtype: int64"
      ]
     },
     "execution_count": 31,
     "metadata": {},
     "output_type": "execute_result"
    }
   ],
   "source": [
    "tipos = df['type_1'].value_counts()\n",
    "tipos"
   ]
  },
  {
   "cell_type": "code",
   "execution_count": 14,
   "id": "5f7c8224-91cb-402e-b99c-bebe7b6a8fa2",
   "metadata": {},
   "outputs": [
    {
     "data": {
      "text/plain": [
       "'Water'"
      ]
     },
     "execution_count": 14,
     "metadata": {},
     "output_type": "execute_result"
    }
   ],
   "source": [
    "type_counts = df['type_1'].value_counts()  # pd Series with count of values of each pokemon type\n",
    "# get the name of the most common type\n",
    "type_counts[type_counts == type_counts.max()].index[0].capitalize()"
   ]
  },
  {
   "cell_type": "code",
   "execution_count": 42,
   "id": "d23938ee-f786-4931-94a0-42b25e62247b",
   "metadata": {},
   "outputs": [
    {
     "name": "stdout",
     "output_type": "stream",
     "text": [
      "El tipo de pokemon más común es el tipo Water, con 134 ejemplares.\n"
     ]
    }
   ],
   "source": [
    "most_common_type = tipos[tipos == tipos.max()]\n",
    "print(f'El tipo de pokemon más común es el tipo {most_common_type.index[0].capitalize()}, con {most_common_type.values[0]} ejemplares.')"
   ]
  },
  {
   "cell_type": "markdown",
   "id": "5f1857f7-2fd7-44fc-9611-52144e5c55ab",
   "metadata": {
    "jp-MarkdownHeadingCollapsed": true,
    "tags": []
   },
   "source": [
    "## 2. ¿Cuál es el número de pokemons legendarios en cada generación?"
   ]
  },
  {
   "cell_type": "code",
   "execution_count": 9,
   "id": "9ffde738-5857-4adf-9470-31193b622721",
   "metadata": {},
   "outputs": [
    {
     "data": {
      "text/html": [
       "<div>\n",
       "<style scoped>\n",
       "    .dataframe tbody tr th:only-of-type {\n",
       "        vertical-align: middle;\n",
       "    }\n",
       "\n",
       "    .dataframe tbody tr th {\n",
       "        vertical-align: top;\n",
       "    }\n",
       "\n",
       "    .dataframe thead th {\n",
       "        text-align: right;\n",
       "    }\n",
       "</style>\n",
       "<table border=\"1\" class=\"dataframe\">\n",
       "  <thead>\n",
       "    <tr style=\"text-align: right;\">\n",
       "      <th></th>\n",
       "      <th>pokedex_number</th>\n",
       "      <th>name</th>\n",
       "      <th>generation</th>\n",
       "      <th>status</th>\n",
       "      <th>type_1</th>\n",
       "      <th>type_2</th>\n",
       "      <th>height_m</th>\n",
       "      <th>weight_pounds</th>\n",
       "      <th>hp</th>\n",
       "      <th>attack</th>\n",
       "      <th>...</th>\n",
       "      <th>against_ground</th>\n",
       "      <th>against_flying</th>\n",
       "      <th>against_psychic</th>\n",
       "      <th>against_bug</th>\n",
       "      <th>against_rock</th>\n",
       "      <th>against_ghost</th>\n",
       "      <th>against_dragon</th>\n",
       "      <th>against_dark</th>\n",
       "      <th>against_steel</th>\n",
       "      <th>against_fairy</th>\n",
       "    </tr>\n",
       "  </thead>\n",
       "  <tbody>\n",
       "    <tr>\n",
       "      <th>0</th>\n",
       "      <td>1</td>\n",
       "      <td>Bulbasaur</td>\n",
       "      <td>1</td>\n",
       "      <td>Normal</td>\n",
       "      <td>GRASS</td>\n",
       "      <td>Poison</td>\n",
       "      <td>0.7</td>\n",
       "      <td>15.211878</td>\n",
       "      <td>45</td>\n",
       "      <td>49</td>\n",
       "      <td>...</td>\n",
       "      <td>1.0</td>\n",
       "      <td>2.0</td>\n",
       "      <td>2.0</td>\n",
       "      <td>1.0</td>\n",
       "      <td>1.0</td>\n",
       "      <td>1.0</td>\n",
       "      <td>1.0</td>\n",
       "      <td>1.0</td>\n",
       "      <td>1.0</td>\n",
       "      <td>0.5</td>\n",
       "    </tr>\n",
       "    <tr>\n",
       "      <th>1</th>\n",
       "      <td>2</td>\n",
       "      <td>Ivysaur</td>\n",
       "      <td>1</td>\n",
       "      <td>Normal</td>\n",
       "      <td>GRASS</td>\n",
       "      <td>Poison</td>\n",
       "      <td>1.0</td>\n",
       "      <td>28.660060</td>\n",
       "      <td>60</td>\n",
       "      <td>62</td>\n",
       "      <td>...</td>\n",
       "      <td>1.0</td>\n",
       "      <td>2.0</td>\n",
       "      <td>2.0</td>\n",
       "      <td>1.0</td>\n",
       "      <td>1.0</td>\n",
       "      <td>1.0</td>\n",
       "      <td>1.0</td>\n",
       "      <td>1.0</td>\n",
       "      <td>1.0</td>\n",
       "      <td>0.5</td>\n",
       "    </tr>\n",
       "    <tr>\n",
       "      <th>2</th>\n",
       "      <td>3</td>\n",
       "      <td>Venusaur</td>\n",
       "      <td>1</td>\n",
       "      <td>Normal</td>\n",
       "      <td>GRASS</td>\n",
       "      <td>Poison</td>\n",
       "      <td>2.0</td>\n",
       "      <td>220.462000</td>\n",
       "      <td>80</td>\n",
       "      <td>82</td>\n",
       "      <td>...</td>\n",
       "      <td>1.0</td>\n",
       "      <td>2.0</td>\n",
       "      <td>2.0</td>\n",
       "      <td>1.0</td>\n",
       "      <td>1.0</td>\n",
       "      <td>1.0</td>\n",
       "      <td>1.0</td>\n",
       "      <td>1.0</td>\n",
       "      <td>1.0</td>\n",
       "      <td>0.5</td>\n",
       "    </tr>\n",
       "    <tr>\n",
       "      <th>3</th>\n",
       "      <td>3</td>\n",
       "      <td>VenusaurMega Venusaur</td>\n",
       "      <td>1</td>\n",
       "      <td>Normal</td>\n",
       "      <td>GRASS</td>\n",
       "      <td>Poison</td>\n",
       "      <td>2.4</td>\n",
       "      <td>342.818410</td>\n",
       "      <td>80</td>\n",
       "      <td>100</td>\n",
       "      <td>...</td>\n",
       "      <td>1.0</td>\n",
       "      <td>2.0</td>\n",
       "      <td>2.0</td>\n",
       "      <td>1.0</td>\n",
       "      <td>1.0</td>\n",
       "      <td>1.0</td>\n",
       "      <td>1.0</td>\n",
       "      <td>1.0</td>\n",
       "      <td>1.0</td>\n",
       "      <td>0.5</td>\n",
       "    </tr>\n",
       "    <tr>\n",
       "      <th>4</th>\n",
       "      <td>4</td>\n",
       "      <td>Charmander</td>\n",
       "      <td>1</td>\n",
       "      <td>Normal</td>\n",
       "      <td>FIRE</td>\n",
       "      <td>NaN</td>\n",
       "      <td>0.6</td>\n",
       "      <td>18.739270</td>\n",
       "      <td>39</td>\n",
       "      <td>52</td>\n",
       "      <td>...</td>\n",
       "      <td>2.0</td>\n",
       "      <td>1.0</td>\n",
       "      <td>1.0</td>\n",
       "      <td>0.5</td>\n",
       "      <td>2.0</td>\n",
       "      <td>1.0</td>\n",
       "      <td>1.0</td>\n",
       "      <td>1.0</td>\n",
       "      <td>0.5</td>\n",
       "      <td>0.5</td>\n",
       "    </tr>\n",
       "  </tbody>\n",
       "</table>\n",
       "<p>5 rows × 34 columns</p>\n",
       "</div>"
      ],
      "text/plain": [
       "   pokedex_number                   name  generation  status type_1  type_2  \\\n",
       "0               1              Bulbasaur           1  Normal  GRASS  Poison   \n",
       "1               2                Ivysaur           1  Normal  GRASS  Poison   \n",
       "2               3               Venusaur           1  Normal  GRASS  Poison   \n",
       "3               3  VenusaurMega Venusaur           1  Normal  GRASS  Poison   \n",
       "4               4             Charmander           1  Normal   FIRE     NaN   \n",
       "\n",
       "   height_m  weight_pounds  hp  attack  ...  against_ground  against_flying  \\\n",
       "0       0.7      15.211878  45      49  ...             1.0             2.0   \n",
       "1       1.0      28.660060  60      62  ...             1.0             2.0   \n",
       "2       2.0     220.462000  80      82  ...             1.0             2.0   \n",
       "3       2.4     342.818410  80     100  ...             1.0             2.0   \n",
       "4       0.6      18.739270  39      52  ...             2.0             1.0   \n",
       "\n",
       "   against_psychic  against_bug  against_rock against_ghost  against_dragon  \\\n",
       "0              2.0          1.0           1.0           1.0             1.0   \n",
       "1              2.0          1.0           1.0           1.0             1.0   \n",
       "2              2.0          1.0           1.0           1.0             1.0   \n",
       "3              2.0          1.0           1.0           1.0             1.0   \n",
       "4              1.0          0.5           2.0           1.0             1.0   \n",
       "\n",
       "   against_dark  against_steel  against_fairy  \n",
       "0           1.0            1.0            0.5  \n",
       "1           1.0            1.0            0.5  \n",
       "2           1.0            1.0            0.5  \n",
       "3           1.0            1.0            0.5  \n",
       "4           1.0            0.5            0.5  \n",
       "\n",
       "[5 rows x 34 columns]"
      ]
     },
     "execution_count": 9,
     "metadata": {},
     "output_type": "execute_result"
    }
   ],
   "source": [
    "df.head()"
   ]
  },
  {
   "cell_type": "markdown",
   "id": "14aeb8f4-5216-46d9-b7ff-6f3d076e5742",
   "metadata": {},
   "source": [
    "La columna `status` guarda el tipo de pokemon"
   ]
  },
  {
   "cell_type": "code",
   "execution_count": 10,
   "id": "570f0a27-47bb-4381-99a5-6e0b98bf2572",
   "metadata": {},
   "outputs": [
    {
     "data": {
      "text/plain": [
       "array(['Normal', 'Sub Legendary', 'Legendary', 'Mythical'], dtype=object)"
      ]
     },
     "execution_count": 10,
     "metadata": {},
     "output_type": "execute_result"
    }
   ],
   "source": [
    "df['status'].unique()"
   ]
  },
  {
   "cell_type": "code",
   "execution_count": 29,
   "id": "6f21f946-0f84-4a2e-ba78-4a245fad69d0",
   "metadata": {},
   "outputs": [
    {
     "data": {
      "text/plain": [
       "Normal           918\n",
       "Sub Legendary     55\n",
       "Legendary         42\n",
       "Mythical          30\n",
       "Name: status, dtype: int64"
      ]
     },
     "execution_count": 29,
     "metadata": {},
     "output_type": "execute_result"
    }
   ],
   "source": [
    "df['status'].value_counts()"
   ]
  },
  {
   "cell_type": "code",
   "execution_count": 30,
   "id": "efe1df07-986f-407c-81b3-35e1c0386bde",
   "metadata": {},
   "outputs": [
    {
     "name": "stdout",
     "output_type": "stream",
     "text": [
      "Existen 42 pokemon legendarios.\n"
     ]
    }
   ],
   "source": [
    "legendarios = df['status'].value_counts().loc['Legendary']\n",
    "print(f'Existen {legendarios} pokemon legendarios.')"
   ]
  },
  {
   "cell_type": "markdown",
   "id": "3288e63f-a60b-4b6f-bf22-46513d5d8009",
   "metadata": {
    "tags": []
   },
   "source": [
    "## 3. Su poder cambia cada generación "
   ]
  },
  {
   "cell_type": "code",
   "execution_count": 4,
   "id": "f2cb791a-1c1c-4e99-b82c-3eb381a18ad9",
   "metadata": {},
   "outputs": [
    {
     "data": {
      "text/plain": [
       "Index(['pokedex_number', 'name', 'generation', 'status', 'type_1', 'type_2',\n",
       "       'height_m', 'weight_pounds', 'hp', 'attack', 'defense', 'sp_attack',\n",
       "       'sp_defense', 'speed', 'catch_rate', 'percentage_male',\n",
       "       'against_normal', 'against_fire', 'against_water', 'against_electric',\n",
       "       'against_grass', 'against_ice', 'against_fight', 'against_poison',\n",
       "       'against_ground', 'against_flying', 'against_psychic', 'against_bug',\n",
       "       'against_rock', 'against_ghost', 'against_dragon', 'against_dark',\n",
       "       'against_steel', 'against_fairy'],\n",
       "      dtype='object')"
      ]
     },
     "execution_count": 4,
     "metadata": {},
     "output_type": "execute_result"
    }
   ],
   "source": [
    "df.columns"
   ]
  },
  {
   "cell_type": "code",
   "execution_count": 5,
   "id": "9c034a76-d810-4452-90fa-62d572630e53",
   "metadata": {},
   "outputs": [],
   "source": [
    "generations = df.pivot_table(index='name', columns='generation', values='attack')"
   ]
  },
  {
   "cell_type": "code",
   "execution_count": 11,
   "id": "62956a37-80f9-4378-89c9-742fb5a43e80",
   "metadata": {},
   "outputs": [
    {
     "data": {
      "text/html": [
       "<div>\n",
       "<style scoped>\n",
       "    .dataframe tbody tr th:only-of-type {\n",
       "        vertical-align: middle;\n",
       "    }\n",
       "\n",
       "    .dataframe tbody tr th {\n",
       "        vertical-align: top;\n",
       "    }\n",
       "\n",
       "    .dataframe thead th {\n",
       "        text-align: right;\n",
       "    }\n",
       "</style>\n",
       "<table border=\"1\" class=\"dataframe\">\n",
       "  <thead>\n",
       "    <tr style=\"text-align: right;\">\n",
       "      <th></th>\n",
       "      <th>attack</th>\n",
       "      <th>defense</th>\n",
       "    </tr>\n",
       "    <tr>\n",
       "      <th>generation</th>\n",
       "      <th></th>\n",
       "      <th></th>\n",
       "    </tr>\n",
       "  </thead>\n",
       "  <tbody>\n",
       "    <tr>\n",
       "      <th>1</th>\n",
       "      <td>77.302083</td>\n",
       "      <td>71.005208</td>\n",
       "    </tr>\n",
       "    <tr>\n",
       "      <th>2</th>\n",
       "      <td>71.869159</td>\n",
       "      <td>73.822430</td>\n",
       "    </tr>\n",
       "    <tr>\n",
       "      <th>3</th>\n",
       "      <td>81.030303</td>\n",
       "      <td>74.048485</td>\n",
       "    </tr>\n",
       "    <tr>\n",
       "      <th>4</th>\n",
       "      <td>82.867769</td>\n",
       "      <td>78.132231</td>\n",
       "    </tr>\n",
       "    <tr>\n",
       "      <th>5</th>\n",
       "      <td>82.976608</td>\n",
       "      <td>72.269006</td>\n",
       "    </tr>\n",
       "    <tr>\n",
       "      <th>6</th>\n",
       "      <td>77.188235</td>\n",
       "      <td>77.023529</td>\n",
       "    </tr>\n",
       "    <tr>\n",
       "      <th>7</th>\n",
       "      <td>87.313131</td>\n",
       "      <td>79.202020</td>\n",
       "    </tr>\n",
       "    <tr>\n",
       "      <th>8</th>\n",
       "      <td>83.571429</td>\n",
       "      <td>76.961905</td>\n",
       "    </tr>\n",
       "  </tbody>\n",
       "</table>\n",
       "</div>"
      ],
      "text/plain": [
       "               attack    defense\n",
       "generation                      \n",
       "1           77.302083  71.005208\n",
       "2           71.869159  73.822430\n",
       "3           81.030303  74.048485\n",
       "4           82.867769  78.132231\n",
       "5           82.976608  72.269006\n",
       "6           77.188235  77.023529\n",
       "7           87.313131  79.202020\n",
       "8           83.571429  76.961905"
      ]
     },
     "execution_count": 11,
     "metadata": {},
     "output_type": "execute_result"
    }
   ],
   "source": [
    "gen_stats = df.groupby('generation')[['attack','defense']].mean()\n",
    "gen_stats"
   ]
  },
  {
   "cell_type": "code",
   "execution_count": 10,
   "id": "1885c90a-239b-4813-97c8-5c3fbd6d4ce3",
   "metadata": {},
   "outputs": [],
   "source": [
    "import matplotlib.pyplot as plt"
   ]
  },
  {
   "cell_type": "code",
   "execution_count": 22,
   "id": "09c04b8e-a419-4308-81b4-07e8096e4795",
   "metadata": {},
   "outputs": [
    {
     "data": {
      "image/png": "[encoded data removed]",
      "text/plain": [
       "<Figure size 1152x504 with 1 Axes>"
      ]
     },
     "metadata": {
      "needs_background": "light"
     },
     "output_type": "display_data"
    }
   ],
   "source": [
    "fig = plt.figure(figsize=(16,7))\n",
    "colors = ['green', 'orange']\n",
    "plt.bar(gen_stats.index, gen_stats['attack'], width=0.6, color= 'red')\n",
    "plt.bar(gen_stats.index, gen_stats['defense'], width=0.6, color= 'green')\n",
    "\n",
    "plt.xlabel('Generation')\n",
    "plt.ylabel('Average attack points')\n",
    "plt.show()"
   ]
  },
  {
   "cell_type": "code",
   "execution_count": 24,
   "id": "74b43d54-8653-4741-8cb9-24e65231979c",
   "metadata": {},
   "outputs": [],
   "source": [
    "import seaborn as sns"
   ]
  },
  {
   "cell_type": "code",
   "execution_count": 32,
   "id": "c5e90da8-aedd-4341-afa8-50bfba0e7a42",
   "metadata": {},
   "outputs": [
    {
     "data": {
      "image/png": "[encoded data removed]",
      "text/plain": [
       "<Figure size 1152x504 with 2 Axes>"
      ]
     },
     "metadata": {
      "needs_background": "light"
     },
     "output_type": "display_data"
    }
   ],
   "source": [
    "fig = plt.figure(figsize=(16,7))\n",
    "ax1 = fig.add_axes([0,0,0.5,0.5])\n",
    "ax2 = fig.add_axes([0,0.6,0.5,0.5])\n",
    "\n",
    "ax1.bar(gen_stats.index, gen_stats['attack'], width=0.6, color= 'red')\n",
    "ax2.bar(gen_stats.index, gen_stats['defense'], width=0.6, color= 'green')\n",
    "\n",
    "ax1.set_xlabel('Generation')\n",
    "ax1.set_ylabel('Average attack points')\n",
    "\n",
    "ax2.set_xlabel('Generation')\n",
    "ax2.set_ylabel('Average defense points')\n",
    "\n",
    "plt.show()"
   ]
  },
  {
   "cell_type": "code",
   "execution_count": 65,
   "id": "d3b4ace1-5844-4215-8764-4e349dc91e40",
   "metadata": {},
   "outputs": [
    {
     "data": {
      "text/html": [
       "<div>\n",
       "<style scoped>\n",
       "    .dataframe tbody tr th:only-of-type {\n",
       "        vertical-align: middle;\n",
       "    }\n",
       "\n",
       "    .dataframe tbody tr th {\n",
       "        vertical-align: top;\n",
       "    }\n",
       "\n",
       "    .dataframe thead th {\n",
       "        text-align: right;\n",
       "    }\n",
       "</style>\n",
       "<table border=\"1\" class=\"dataframe\">\n",
       "  <thead>\n",
       "    <tr style=\"text-align: right;\">\n",
       "      <th>generation</th>\n",
       "      <th>1</th>\n",
       "      <th>2</th>\n",
       "      <th>3</th>\n",
       "      <th>4</th>\n",
       "      <th>5</th>\n",
       "      <th>6</th>\n",
       "      <th>7</th>\n",
       "      <th>8</th>\n",
       "    </tr>\n",
       "    <tr>\n",
       "      <th>name</th>\n",
       "      <th></th>\n",
       "      <th></th>\n",
       "      <th></th>\n",
       "      <th></th>\n",
       "      <th></th>\n",
       "      <th></th>\n",
       "      <th></th>\n",
       "      <th></th>\n",
       "    </tr>\n",
       "  </thead>\n",
       "  <tbody>\n",
       "  </tbody>\n",
       "</table>\n",
       "</div>"
      ],
      "text/plain": [
       "Empty DataFrame\n",
       "Columns: [1, 2, 3, 4, 5, 6, 7, 8]\n",
       "Index: []"
      ]
     },
     "execution_count": 65,
     "metadata": {},
     "output_type": "execute_result"
    }
   ],
   "source": [
    "repeats_throughout_gens = generations.T.notna().sum() > 1\n",
    "generations[repeats_throughout_gens]"
   ]
  },
  {
   "cell_type": "markdown",
   "id": "464af19a-e2c3-46e7-977d-3a5936f48116",
   "metadata": {
    "jp-MarkdownHeadingCollapsed": true,
    "tags": []
   },
   "source": [
    "## 4. El tipo de pokemon más poderoso  "
   ]
  },
  {
   "cell_type": "code",
   "execution_count": 43,
   "id": "1134b88c-9945-4e71-b853-9461e53b3720",
   "metadata": {},
   "outputs": [
    {
     "data": {
      "text/html": [
       "<div>\n",
       "<style scoped>\n",
       "    .dataframe tbody tr th:only-of-type {\n",
       "        vertical-align: middle;\n",
       "    }\n",
       "\n",
       "    .dataframe tbody tr th {\n",
       "        vertical-align: top;\n",
       "    }\n",
       "\n",
       "    .dataframe thead th {\n",
       "        text-align: right;\n",
       "    }\n",
       "</style>\n",
       "<table border=\"1\" class=\"dataframe\">\n",
       "  <thead>\n",
       "    <tr style=\"text-align: right;\">\n",
       "      <th></th>\n",
       "      <th>pokedex_number</th>\n",
       "      <th>name</th>\n",
       "      <th>generation</th>\n",
       "      <th>status</th>\n",
       "      <th>type_1</th>\n",
       "      <th>type_2</th>\n",
       "      <th>height_m</th>\n",
       "      <th>weight_pounds</th>\n",
       "      <th>hp</th>\n",
       "      <th>attack</th>\n",
       "      <th>...</th>\n",
       "      <th>against_ground</th>\n",
       "      <th>against_flying</th>\n",
       "      <th>against_psychic</th>\n",
       "      <th>against_bug</th>\n",
       "      <th>against_rock</th>\n",
       "      <th>against_ghost</th>\n",
       "      <th>against_dragon</th>\n",
       "      <th>against_dark</th>\n",
       "      <th>against_steel</th>\n",
       "      <th>against_fairy</th>\n",
       "    </tr>\n",
       "  </thead>\n",
       "  <tbody>\n",
       "    <tr>\n",
       "      <th>0</th>\n",
       "      <td>1</td>\n",
       "      <td>Bulbasaur</td>\n",
       "      <td>1</td>\n",
       "      <td>Normal</td>\n",
       "      <td>GRASS</td>\n",
       "      <td>Poison</td>\n",
       "      <td>0.7</td>\n",
       "      <td>15.211878</td>\n",
       "      <td>45</td>\n",
       "      <td>49</td>\n",
       "      <td>...</td>\n",
       "      <td>1.0</td>\n",
       "      <td>2.0</td>\n",
       "      <td>2.0</td>\n",
       "      <td>1.0</td>\n",
       "      <td>1.0</td>\n",
       "      <td>1.0</td>\n",
       "      <td>1.0</td>\n",
       "      <td>1.0</td>\n",
       "      <td>1.0</td>\n",
       "      <td>0.5</td>\n",
       "    </tr>\n",
       "    <tr>\n",
       "      <th>1</th>\n",
       "      <td>2</td>\n",
       "      <td>Ivysaur</td>\n",
       "      <td>1</td>\n",
       "      <td>Normal</td>\n",
       "      <td>GRASS</td>\n",
       "      <td>Poison</td>\n",
       "      <td>1.0</td>\n",
       "      <td>28.660060</td>\n",
       "      <td>60</td>\n",
       "      <td>62</td>\n",
       "      <td>...</td>\n",
       "      <td>1.0</td>\n",
       "      <td>2.0</td>\n",
       "      <td>2.0</td>\n",
       "      <td>1.0</td>\n",
       "      <td>1.0</td>\n",
       "      <td>1.0</td>\n",
       "      <td>1.0</td>\n",
       "      <td>1.0</td>\n",
       "      <td>1.0</td>\n",
       "      <td>0.5</td>\n",
       "    </tr>\n",
       "    <tr>\n",
       "      <th>2</th>\n",
       "      <td>3</td>\n",
       "      <td>Venusaur</td>\n",
       "      <td>1</td>\n",
       "      <td>Normal</td>\n",
       "      <td>GRASS</td>\n",
       "      <td>Poison</td>\n",
       "      <td>2.0</td>\n",
       "      <td>220.462000</td>\n",
       "      <td>80</td>\n",
       "      <td>82</td>\n",
       "      <td>...</td>\n",
       "      <td>1.0</td>\n",
       "      <td>2.0</td>\n",
       "      <td>2.0</td>\n",
       "      <td>1.0</td>\n",
       "      <td>1.0</td>\n",
       "      <td>1.0</td>\n",
       "      <td>1.0</td>\n",
       "      <td>1.0</td>\n",
       "      <td>1.0</td>\n",
       "      <td>0.5</td>\n",
       "    </tr>\n",
       "    <tr>\n",
       "      <th>3</th>\n",
       "      <td>3</td>\n",
       "      <td>VenusaurMega Venusaur</td>\n",
       "      <td>1</td>\n",
       "      <td>Normal</td>\n",
       "      <td>GRASS</td>\n",
       "      <td>Poison</td>\n",
       "      <td>2.4</td>\n",
       "      <td>342.818410</td>\n",
       "      <td>80</td>\n",
       "      <td>100</td>\n",
       "      <td>...</td>\n",
       "      <td>1.0</td>\n",
       "      <td>2.0</td>\n",
       "      <td>2.0</td>\n",
       "      <td>1.0</td>\n",
       "      <td>1.0</td>\n",
       "      <td>1.0</td>\n",
       "      <td>1.0</td>\n",
       "      <td>1.0</td>\n",
       "      <td>1.0</td>\n",
       "      <td>0.5</td>\n",
       "    </tr>\n",
       "    <tr>\n",
       "      <th>4</th>\n",
       "      <td>4</td>\n",
       "      <td>Charmander</td>\n",
       "      <td>1</td>\n",
       "      <td>Normal</td>\n",
       "      <td>FIRE</td>\n",
       "      <td>NaN</td>\n",
       "      <td>0.6</td>\n",
       "      <td>18.739270</td>\n",
       "      <td>39</td>\n",
       "      <td>52</td>\n",
       "      <td>...</td>\n",
       "      <td>2.0</td>\n",
       "      <td>1.0</td>\n",
       "      <td>1.0</td>\n",
       "      <td>0.5</td>\n",
       "      <td>2.0</td>\n",
       "      <td>1.0</td>\n",
       "      <td>1.0</td>\n",
       "      <td>1.0</td>\n",
       "      <td>0.5</td>\n",
       "      <td>0.5</td>\n",
       "    </tr>\n",
       "  </tbody>\n",
       "</table>\n",
       "<p>5 rows × 34 columns</p>\n",
       "</div>"
      ],
      "text/plain": [
       "   pokedex_number                   name  generation  status type_1  type_2  \\\n",
       "0               1              Bulbasaur           1  Normal  GRASS  Poison   \n",
       "1               2                Ivysaur           1  Normal  GRASS  Poison   \n",
       "2               3               Venusaur           1  Normal  GRASS  Poison   \n",
       "3               3  VenusaurMega Venusaur           1  Normal  GRASS  Poison   \n",
       "4               4             Charmander           1  Normal   FIRE     NaN   \n",
       "\n",
       "   height_m  weight_pounds  hp  attack  ...  against_ground  against_flying  \\\n",
       "0       0.7      15.211878  45      49  ...             1.0             2.0   \n",
       "1       1.0      28.660060  60      62  ...             1.0             2.0   \n",
       "2       2.0     220.462000  80      82  ...             1.0             2.0   \n",
       "3       2.4     342.818410  80     100  ...             1.0             2.0   \n",
       "4       0.6      18.739270  39      52  ...             2.0             1.0   \n",
       "\n",
       "   against_psychic  against_bug  against_rock against_ghost  against_dragon  \\\n",
       "0              2.0          1.0           1.0           1.0             1.0   \n",
       "1              2.0          1.0           1.0           1.0             1.0   \n",
       "2              2.0          1.0           1.0           1.0             1.0   \n",
       "3              2.0          1.0           1.0           1.0             1.0   \n",
       "4              1.0          0.5           2.0           1.0             1.0   \n",
       "\n",
       "   against_dark  against_steel  against_fairy  \n",
       "0           1.0            1.0            0.5  \n",
       "1           1.0            1.0            0.5  \n",
       "2           1.0            1.0            0.5  \n",
       "3           1.0            1.0            0.5  \n",
       "4           1.0            0.5            0.5  \n",
       "\n",
       "[5 rows x 34 columns]"
      ]
     },
     "execution_count": 43,
     "metadata": {},
     "output_type": "execute_result"
    }
   ],
   "source": [
    "df.head()"
   ]
  },
  {
   "cell_type": "markdown",
   "id": "fc5460d2-3d1b-4a35-9b01-2e8576c31c60",
   "metadata": {},
   "source": [
    "Limpio las columnas para rechazar las columnas de ataque contra otros tipos"
   ]
  },
  {
   "cell_type": "code",
   "execution_count": 47,
   "id": "47c13a1a-cc7e-4798-9580-636154a88aaa",
   "metadata": {},
   "outputs": [
    {
     "data": {
      "text/plain": [
       "16"
      ]
     },
     "execution_count": 47,
     "metadata": {},
     "output_type": "execute_result"
    }
   ],
   "source": [
    "list(df.columns).index('against_normal')"
   ]
  },
  {
   "cell_type": "code",
   "execution_count": 67,
   "id": "c9e8697b-beb1-4caa-80eb-9b3a35d10c2f",
   "metadata": {},
   "outputs": [
    {
     "data": {
      "text/html": [
       "<div>\n",
       "<style scoped>\n",
       "    .dataframe tbody tr th:only-of-type {\n",
       "        vertical-align: middle;\n",
       "    }\n",
       "\n",
       "    .dataframe tbody tr th {\n",
       "        vertical-align: top;\n",
       "    }\n",
       "\n",
       "    .dataframe thead th {\n",
       "        text-align: right;\n",
       "    }\n",
       "</style>\n",
       "<table border=\"1\" class=\"dataframe\">\n",
       "  <thead>\n",
       "    <tr style=\"text-align: right;\">\n",
       "      <th></th>\n",
       "      <th>pokedex_number</th>\n",
       "      <th>name</th>\n",
       "      <th>generation</th>\n",
       "      <th>status</th>\n",
       "      <th>type_1</th>\n",
       "      <th>type_2</th>\n",
       "      <th>height_m</th>\n",
       "      <th>weight_pounds</th>\n",
       "      <th>hp</th>\n",
       "      <th>attack</th>\n",
       "      <th>defense</th>\n",
       "      <th>sp_attack</th>\n",
       "      <th>sp_defense</th>\n",
       "      <th>speed</th>\n",
       "      <th>catch_rate</th>\n",
       "      <th>percentage_male</th>\n",
       "    </tr>\n",
       "  </thead>\n",
       "  <tbody>\n",
       "    <tr>\n",
       "      <th>0</th>\n",
       "      <td>1</td>\n",
       "      <td>Bulbasaur</td>\n",
       "      <td>1</td>\n",
       "      <td>Normal</td>\n",
       "      <td>GRASS</td>\n",
       "      <td>Poison</td>\n",
       "      <td>0.7</td>\n",
       "      <td>15.211878</td>\n",
       "      <td>45</td>\n",
       "      <td>49</td>\n",
       "      <td>49</td>\n",
       "      <td>65</td>\n",
       "      <td>65</td>\n",
       "      <td>45</td>\n",
       "      <td>45.0</td>\n",
       "      <td>87.5%</td>\n",
       "    </tr>\n",
       "    <tr>\n",
       "      <th>1</th>\n",
       "      <td>2</td>\n",
       "      <td>Ivysaur</td>\n",
       "      <td>1</td>\n",
       "      <td>Normal</td>\n",
       "      <td>GRASS</td>\n",
       "      <td>Poison</td>\n",
       "      <td>1.0</td>\n",
       "      <td>28.660060</td>\n",
       "      <td>60</td>\n",
       "      <td>62</td>\n",
       "      <td>63</td>\n",
       "      <td>80</td>\n",
       "      <td>80</td>\n",
       "      <td>60</td>\n",
       "      <td>45.0</td>\n",
       "      <td>87.5%</td>\n",
       "    </tr>\n",
       "    <tr>\n",
       "      <th>2</th>\n",
       "      <td>3</td>\n",
       "      <td>Venusaur</td>\n",
       "      <td>1</td>\n",
       "      <td>Normal</td>\n",
       "      <td>GRASS</td>\n",
       "      <td>Poison</td>\n",
       "      <td>2.0</td>\n",
       "      <td>220.462000</td>\n",
       "      <td>80</td>\n",
       "      <td>82</td>\n",
       "      <td>83</td>\n",
       "      <td>100</td>\n",
       "      <td>100</td>\n",
       "      <td>80</td>\n",
       "      <td>45.0</td>\n",
       "      <td>87.5%</td>\n",
       "    </tr>\n",
       "    <tr>\n",
       "      <th>3</th>\n",
       "      <td>3</td>\n",
       "      <td>VenusaurMega Venusaur</td>\n",
       "      <td>1</td>\n",
       "      <td>Normal</td>\n",
       "      <td>GRASS</td>\n",
       "      <td>Poison</td>\n",
       "      <td>2.4</td>\n",
       "      <td>342.818410</td>\n",
       "      <td>80</td>\n",
       "      <td>100</td>\n",
       "      <td>123</td>\n",
       "      <td>122</td>\n",
       "      <td>120</td>\n",
       "      <td>80</td>\n",
       "      <td>45.0</td>\n",
       "      <td>87.5%</td>\n",
       "    </tr>\n",
       "    <tr>\n",
       "      <th>4</th>\n",
       "      <td>4</td>\n",
       "      <td>Charmander</td>\n",
       "      <td>1</td>\n",
       "      <td>Normal</td>\n",
       "      <td>FIRE</td>\n",
       "      <td>NaN</td>\n",
       "      <td>0.6</td>\n",
       "      <td>18.739270</td>\n",
       "      <td>39</td>\n",
       "      <td>52</td>\n",
       "      <td>43</td>\n",
       "      <td>60</td>\n",
       "      <td>50</td>\n",
       "      <td>65</td>\n",
       "      <td>45.0</td>\n",
       "      <td>87.5%</td>\n",
       "    </tr>\n",
       "  </tbody>\n",
       "</table>\n",
       "</div>"
      ],
      "text/plain": [
       "   pokedex_number                   name  generation  status type_1  type_2  \\\n",
       "0               1              Bulbasaur           1  Normal  GRASS  Poison   \n",
       "1               2                Ivysaur           1  Normal  GRASS  Poison   \n",
       "2               3               Venusaur           1  Normal  GRASS  Poison   \n",
       "3               3  VenusaurMega Venusaur           1  Normal  GRASS  Poison   \n",
       "4               4             Charmander           1  Normal   FIRE     NaN   \n",
       "\n",
       "   height_m  weight_pounds  hp  attack  defense  sp_attack  sp_defense  speed  \\\n",
       "0       0.7      15.211878  45      49       49         65          65     45   \n",
       "1       1.0      28.660060  60      62       63         80          80     60   \n",
       "2       2.0     220.462000  80      82       83        100         100     80   \n",
       "3       2.4     342.818410  80     100      123        122         120     80   \n",
       "4       0.6      18.739270  39      52       43         60          50     65   \n",
       "\n",
       "   catch_rate percentage_male  \n",
       "0        45.0           87.5%  \n",
       "1        45.0           87.5%  \n",
       "2        45.0           87.5%  \n",
       "3        45.0           87.5%  \n",
       "4        45.0           87.5%  "
      ]
     },
     "execution_count": 67,
     "metadata": {},
     "output_type": "execute_result"
    }
   ],
   "source": [
    "clean_columns = list(df.columns)[:16]\n",
    "df2 = df[clean_columns]\n",
    "df2.head()"
   ]
  },
  {
   "cell_type": "code",
   "execution_count": 80,
   "id": "59997882-1f04-4d12-b0fd-f2bb4ce73622",
   "metadata": {},
   "outputs": [
    {
     "data": {
      "text/html": [
       "<div>\n",
       "<style scoped>\n",
       "    .dataframe tbody tr th:only-of-type {\n",
       "        vertical-align: middle;\n",
       "    }\n",
       "\n",
       "    .dataframe tbody tr th {\n",
       "        vertical-align: top;\n",
       "    }\n",
       "\n",
       "    .dataframe thead th {\n",
       "        text-align: right;\n",
       "    }\n",
       "</style>\n",
       "<table border=\"1\" class=\"dataframe\">\n",
       "  <thead>\n",
       "    <tr style=\"text-align: right;\">\n",
       "      <th></th>\n",
       "      <th>type_1</th>\n",
       "      <th>attack</th>\n",
       "    </tr>\n",
       "  </thead>\n",
       "  <tbody>\n",
       "    <tr>\n",
       "      <th>194</th>\n",
       "      <td>Psychic</td>\n",
       "      <td>190</td>\n",
       "    </tr>\n",
       "    <tr>\n",
       "      <th>264</th>\n",
       "      <td>Bug</td>\n",
       "      <td>185</td>\n",
       "    </tr>\n",
       "    <tr>\n",
       "      <th>931</th>\n",
       "      <td>Grass</td>\n",
       "      <td>181</td>\n",
       "    </tr>\n",
       "    <tr>\n",
       "      <th>462</th>\n",
       "      <td>Ground</td>\n",
       "      <td>180</td>\n",
       "    </tr>\n",
       "    <tr>\n",
       "      <th>464</th>\n",
       "      <td>Dragon</td>\n",
       "      <td>180</td>\n",
       "    </tr>\n",
       "    <tr>\n",
       "      <th>...</th>\n",
       "      <td>...</td>\n",
       "      <td>...</td>\n",
       "    </tr>\n",
       "    <tr>\n",
       "      <th>294</th>\n",
       "      <td>Normal</td>\n",
       "      <td>10</td>\n",
       "    </tr>\n",
       "    <tr>\n",
       "      <th>262</th>\n",
       "      <td>Bug</td>\n",
       "      <td>10</td>\n",
       "    </tr>\n",
       "    <tr>\n",
       "      <th>166</th>\n",
       "      <td>Water</td>\n",
       "      <td>10</td>\n",
       "    </tr>\n",
       "    <tr>\n",
       "      <th>526</th>\n",
       "      <td>Normal</td>\n",
       "      <td>5</td>\n",
       "    </tr>\n",
       "    <tr>\n",
       "      <th>147</th>\n",
       "      <td>Normal</td>\n",
       "      <td>5</td>\n",
       "    </tr>\n",
       "  </tbody>\n",
       "</table>\n",
       "<p>1045 rows × 2 columns</p>\n",
       "</div>"
      ],
      "text/plain": [
       "      type_1  attack\n",
       "194  Psychic     190\n",
       "264      Bug     185\n",
       "931    Grass     181\n",
       "462   Ground     180\n",
       "464   Dragon     180\n",
       "..       ...     ...\n",
       "294   Normal      10\n",
       "262      Bug      10\n",
       "166    Water      10\n",
       "526   Normal       5\n",
       "147   Normal       5\n",
       "\n",
       "[1045 rows x 2 columns]"
      ]
     },
     "execution_count": 80,
     "metadata": {},
     "output_type": "execute_result"
    }
   ],
   "source": [
    "attack_points = df2[['type_1','attack']].sort_values('attack', ascending=False)\n",
    "attack_points['type_1'] = attack_points['type_1'].apply(lambda x : x.capitalize())\n",
    "attack_points"
   ]
  },
  {
   "cell_type": "code",
   "execution_count": 57,
   "id": "d0c25f04-f2b4-4397-ae51-c52cc08965a8",
   "metadata": {},
   "outputs": [
    {
     "name": "stdout",
     "output_type": "stream",
     "text": [
      "The most powerful pokemon type is Psychic, with 190 attack points.\n"
     ]
    }
   ],
   "source": [
    "most_powerful = attack_points.iloc[0]\n",
    "most_powerful_type = most_powerful['type_1'].capitalize()\n",
    "most_powerful_attack = most_powerful['attack']\n",
    "print(f'The most powerful pokemon type is {most_powerful_type}, with {most_powerful_attack} attack points.')"
   ]
  },
  {
   "cell_type": "markdown",
   "id": "f1dcb2f2-07dc-479b-b77c-8792d67943fe",
   "metadata": {},
   "source": [
    "Top 5 de los tipos más poderosos"
   ]
  },
  {
   "cell_type": "code",
   "execution_count": 82,
   "id": "6ad5450b-70bf-4d2f-a045-3dab2ac9654c",
   "metadata": {},
   "outputs": [
    {
     "data": {
      "text/html": [
       "<div>\n",
       "<style scoped>\n",
       "    .dataframe tbody tr th:only-of-type {\n",
       "        vertical-align: middle;\n",
       "    }\n",
       "\n",
       "    .dataframe tbody tr th {\n",
       "        vertical-align: top;\n",
       "    }\n",
       "\n",
       "    .dataframe thead th {\n",
       "        text-align: right;\n",
       "    }\n",
       "</style>\n",
       "<table border=\"1\" class=\"dataframe\">\n",
       "  <thead>\n",
       "    <tr style=\"text-align: right;\">\n",
       "      <th></th>\n",
       "      <th>type_1</th>\n",
       "      <th>attack</th>\n",
       "    </tr>\n",
       "  </thead>\n",
       "  <tbody>\n",
       "    <tr>\n",
       "      <th>194</th>\n",
       "      <td>Psychic</td>\n",
       "      <td>190</td>\n",
       "    </tr>\n",
       "    <tr>\n",
       "      <th>264</th>\n",
       "      <td>Bug</td>\n",
       "      <td>185</td>\n",
       "    </tr>\n",
       "    <tr>\n",
       "      <th>931</th>\n",
       "      <td>Grass</td>\n",
       "      <td>181</td>\n",
       "    </tr>\n",
       "    <tr>\n",
       "      <th>462</th>\n",
       "      <td>Ground</td>\n",
       "      <td>180</td>\n",
       "    </tr>\n",
       "    <tr>\n",
       "      <th>464</th>\n",
       "      <td>Dragon</td>\n",
       "      <td>180</td>\n",
       "    </tr>\n",
       "  </tbody>\n",
       "</table>\n",
       "</div>"
      ],
      "text/plain": [
       "      type_1  attack\n",
       "194  Psychic     190\n",
       "264      Bug     185\n",
       "931    Grass     181\n",
       "462   Ground     180\n",
       "464   Dragon     180"
      ]
     },
     "execution_count": 82,
     "metadata": {},
     "output_type": "execute_result"
    }
   ],
   "source": [
    "attack_points.nlargest(5, 'attack')"
   ]
  },
  {
   "cell_type": "markdown",
   "id": "e416db49-c827-4073-ae1b-587b4028c8e7",
   "metadata": {
    "jp-MarkdownHeadingCollapsed": true,
    "tags": []
   },
   "source": [
    "## 5. ¿Cuáles son los pokemon más grandes? ¿Y los más pesados? ¿Y los menos densos?"
   ]
  },
  {
   "cell_type": "code",
   "execution_count": 58,
   "id": "482aec21-0cc4-46d6-93ea-01525e1563bb",
   "metadata": {},
   "outputs": [
    {
     "data": {
      "text/plain": [
       "Index(['pokedex_number', 'name', 'generation', 'status', 'type_1', 'type_2',\n",
       "       'height_m', 'weight_pounds', 'hp', 'attack', 'defense', 'sp_attack',\n",
       "       'sp_defense', 'speed', 'catch_rate', 'percentage_male'],\n",
       "      dtype='object')"
      ]
     },
     "execution_count": 58,
     "metadata": {},
     "output_type": "execute_result"
    }
   ],
   "source": [
    "df2.columns"
   ]
  },
  {
   "cell_type": "code",
   "execution_count": 61,
   "id": "0da19cd2-e936-4be0-aa8a-83989352f15e",
   "metadata": {},
   "outputs": [],
   "source": [
    "tallest_pokemons = df[['name', 'height_m']].sort_values('height_m', ascending=False).head(3)\n",
    "heaviest_pokemons = df[['name', 'weight_pounds']].sort_values('weight_pounds', ascending=False).head(3)\n",
    "#densest_pokemons = df[['name', 'height_m']].sort_values('height_m')"
   ]
  },
  {
   "cell_type": "markdown",
   "id": "85cf4362-a0c4-475b-8f9c-424e5fc8c02c",
   "metadata": {},
   "source": [
    "Los 3 pokemon más grandes son:"
   ]
  },
  {
   "cell_type": "code",
   "execution_count": 62,
   "id": "2ed0b1d9-3bec-4116-8168-db0d9c05fe28",
   "metadata": {},
   "outputs": [
    {
     "data": {
      "text/html": [
       "<div>\n",
       "<style scoped>\n",
       "    .dataframe tbody tr th:only-of-type {\n",
       "        vertical-align: middle;\n",
       "    }\n",
       "\n",
       "    .dataframe tbody tr th {\n",
       "        vertical-align: top;\n",
       "    }\n",
       "\n",
       "    .dataframe thead th {\n",
       "        text-align: right;\n",
       "    }\n",
       "</style>\n",
       "<table border=\"1\" class=\"dataframe\">\n",
       "  <thead>\n",
       "    <tr style=\"text-align: right;\">\n",
       "      <th></th>\n",
       "      <th>name</th>\n",
       "      <th>height_m</th>\n",
       "    </tr>\n",
       "  </thead>\n",
       "  <tbody>\n",
       "    <tr>\n",
       "      <th>1033</th>\n",
       "      <td>Eternatus Eternamax</td>\n",
       "      <td>100.0</td>\n",
       "    </tr>\n",
       "    <tr>\n",
       "      <th>1032</th>\n",
       "      <td>Eternatus</td>\n",
       "      <td>20.0</td>\n",
       "    </tr>\n",
       "    <tr>\n",
       "      <th>386</th>\n",
       "      <td>Wailord</td>\n",
       "      <td>14.5</td>\n",
       "    </tr>\n",
       "  </tbody>\n",
       "</table>\n",
       "</div>"
      ],
      "text/plain": [
       "                     name  height_m\n",
       "1033  Eternatus Eternamax     100.0\n",
       "1032            Eternatus      20.0\n",
       "386               Wailord      14.5"
      ]
     },
     "execution_count": 62,
     "metadata": {},
     "output_type": "execute_result"
    }
   ],
   "source": [
    "tallest_pokemons"
   ]
  },
  {
   "cell_type": "markdown",
   "id": "7a16fdeb-2d2d-4162-a51b-a235f5ae9da0",
   "metadata": {},
   "source": [
    "Los 3 pokemon más pesados son:"
   ]
  },
  {
   "cell_type": "code",
   "execution_count": 63,
   "id": "31021713-d260-4acb-ba8c-ceb9be6b144a",
   "metadata": {},
   "outputs": [
    {
     "data": {
      "text/html": [
       "<div>\n",
       "<style scoped>\n",
       "    .dataframe tbody tr th:only-of-type {\n",
       "        vertical-align: middle;\n",
       "    }\n",
       "\n",
       "    .dataframe tbody tr th {\n",
       "        vertical-align: top;\n",
       "    }\n",
       "\n",
       "    .dataframe thead th {\n",
       "        text-align: right;\n",
       "    }\n",
       "</style>\n",
       "<table border=\"1\" class=\"dataframe\">\n",
       "  <thead>\n",
       "    <tr style=\"text-align: right;\">\n",
       "      <th></th>\n",
       "      <th>name</th>\n",
       "      <th>weight_pounds</th>\n",
       "    </tr>\n",
       "  </thead>\n",
       "  <tbody>\n",
       "    <tr>\n",
       "      <th>930</th>\n",
       "      <td>Celesteela</td>\n",
       "      <td>2204.399538</td>\n",
       "    </tr>\n",
       "    <tr>\n",
       "      <th>923</th>\n",
       "      <td>Cosmoem</td>\n",
       "      <td>2204.399538</td>\n",
       "    </tr>\n",
       "    <tr>\n",
       "      <th>462</th>\n",
       "      <td>Primal Groudon</td>\n",
       "      <td>2203.958614</td>\n",
       "    </tr>\n",
       "  </tbody>\n",
       "</table>\n",
       "</div>"
      ],
      "text/plain": [
       "               name  weight_pounds\n",
       "930      Celesteela    2204.399538\n",
       "923         Cosmoem    2204.399538\n",
       "462  Primal Groudon    2203.958614"
      ]
     },
     "execution_count": 63,
     "metadata": {},
     "output_type": "execute_result"
    }
   ],
   "source": [
    "heaviest_pokemons"
   ]
  },
  {
   "cell_type": "code",
   "execution_count": 64,
   "id": "54bac319-0bea-43d2-b952-6f05fa5154ac",
   "metadata": {},
   "outputs": [
    {
     "data": {
      "text/plain": [
       "Index(['pokedex_number', 'name', 'generation', 'status', 'type_1', 'type_2',\n",
       "       'height_m', 'weight_pounds', 'hp', 'attack', 'defense', 'sp_attack',\n",
       "       'sp_defense', 'speed', 'catch_rate', 'percentage_male'],\n",
       "      dtype='object')"
      ]
     },
     "execution_count": 64,
     "metadata": {},
     "output_type": "execute_result"
    }
   ],
   "source": [
    "df2.columns"
   ]
  },
  {
   "cell_type": "markdown",
   "id": "838277ff-c5da-4c69-9edf-9c7386176432",
   "metadata": {
    "jp-MarkdownHeadingCollapsed": true,
    "tags": []
   },
   "source": [
    "## 6. ¿Cuántos pokemons son machos y cuántos son hembras?"
   ]
  },
  {
   "cell_type": "code",
   "execution_count": 17,
   "id": "340a05d4-6646-4ec4-b638-edc0a746ae30",
   "metadata": {},
   "outputs": [
    {
     "data": {
      "text/html": [
       "<div>\n",
       "<style scoped>\n",
       "    .dataframe tbody tr th:only-of-type {\n",
       "        vertical-align: middle;\n",
       "    }\n",
       "\n",
       "    .dataframe tbody tr th {\n",
       "        vertical-align: top;\n",
       "    }\n",
       "\n",
       "    .dataframe thead th {\n",
       "        text-align: right;\n",
       "    }\n",
       "</style>\n",
       "<table border=\"1\" class=\"dataframe\">\n",
       "  <thead>\n",
       "    <tr style=\"text-align: right;\">\n",
       "      <th></th>\n",
       "      <th>name</th>\n",
       "      <th>%_male</th>\n",
       "    </tr>\n",
       "  </thead>\n",
       "  <tbody>\n",
       "    <tr>\n",
       "      <th>0</th>\n",
       "      <td>Bulbasaur</td>\n",
       "      <td>87.5</td>\n",
       "    </tr>\n",
       "    <tr>\n",
       "      <th>1</th>\n",
       "      <td>Ivysaur</td>\n",
       "      <td>87.5</td>\n",
       "    </tr>\n",
       "    <tr>\n",
       "      <th>2</th>\n",
       "      <td>Venusaur</td>\n",
       "      <td>87.5</td>\n",
       "    </tr>\n",
       "    <tr>\n",
       "      <th>3</th>\n",
       "      <td>VenusaurMega Venusaur</td>\n",
       "      <td>87.5</td>\n",
       "    </tr>\n",
       "    <tr>\n",
       "      <th>4</th>\n",
       "      <td>Charmander</td>\n",
       "      <td>87.5</td>\n",
       "    </tr>\n",
       "  </tbody>\n",
       "</table>\n",
       "</div>"
      ],
      "text/plain": [
       "                    name  %_male\n",
       "0              Bulbasaur    87.5\n",
       "1                Ivysaur    87.5\n",
       "2               Venusaur    87.5\n",
       "3  VenusaurMega Venusaur    87.5\n",
       "4             Charmander    87.5"
      ]
     },
     "execution_count": 17,
     "metadata": {},
     "output_type": "execute_result"
    }
   ],
   "source": [
    "df['%_male'] = df['percentage_male'].apply(lambda x: float(x.replace('%', '')) )\n",
    "df[['name', '%_male']].head()"
   ]
  },
  {
   "cell_type": "code",
   "execution_count": 18,
   "id": "13d43a02-d5d2-4db1-8ac9-d89c2600a687",
   "metadata": {},
   "outputs": [],
   "source": [
    "male_pokemons = df[df['%_male'] == 100]\n",
    "female_pokemons = df[df['%_male'] == 0]"
   ]
  },
  {
   "cell_type": "code",
   "execution_count": 24,
   "id": "3d4d9a86-de03-494f-b224-c15514e34e20",
   "metadata": {},
   "outputs": [
    {
     "data": {
      "text/html": [
       "<div>\n",
       "<style scoped>\n",
       "    .dataframe tbody tr th:only-of-type {\n",
       "        vertical-align: middle;\n",
       "    }\n",
       "\n",
       "    .dataframe tbody tr th {\n",
       "        vertical-align: top;\n",
       "    }\n",
       "\n",
       "    .dataframe thead th {\n",
       "        text-align: right;\n",
       "    }\n",
       "</style>\n",
       "<table border=\"1\" class=\"dataframe\">\n",
       "  <thead>\n",
       "    <tr style=\"text-align: right;\">\n",
       "      <th></th>\n",
       "      <th>Sexo</th>\n",
       "    </tr>\n",
       "  </thead>\n",
       "  <tbody>\n",
       "    <tr>\n",
       "      <th>Machos</th>\n",
       "      <td>29</td>\n",
       "    </tr>\n",
       "    <tr>\n",
       "      <th>Hembras</th>\n",
       "      <td>210</td>\n",
       "    </tr>\n",
       "  </tbody>\n",
       "</table>\n",
       "</div>"
      ],
      "text/plain": [
       "         Sexo\n",
       "Machos     29\n",
       "Hembras   210"
      ]
     },
     "execution_count": 24,
     "metadata": {},
     "output_type": "execute_result"
    }
   ],
   "source": [
    "pokemon_gender = pd.DataFrame({'Sexo': [male_pokemons.shape[0], female_pokemons.shape[0]]}, index= ['Machos', 'Hembras'])\n",
    "pokemon_gender"
   ]
  },
  {
   "cell_type": "markdown",
   "id": "e1758365-711f-4f7d-9266-01af4410f7be",
   "metadata": {
    "jp-MarkdownHeadingCollapsed": true,
    "tags": []
   },
   "source": [
    "## 7. ¿Qué pokemons tienen más puntos de ataque que de defensa? ¿Y al contrario?"
   ]
  },
  {
   "cell_type": "code",
   "execution_count": 26,
   "id": "c4f353c4-6450-4501-a63a-71874f160937",
   "metadata": {},
   "outputs": [
    {
     "data": {
      "text/plain": [
       "Index(['pokedex_number', 'name', 'generation', 'status', 'type_1', 'type_2',\n",
       "       'height_m', 'weight_pounds', 'hp', 'attack', 'defense', 'sp_attack',\n",
       "       'sp_defense', 'speed', 'catch_rate', 'percentage_male',\n",
       "       'against_normal', 'against_fire', 'against_water', 'against_electric',\n",
       "       'against_grass', 'against_ice', 'against_fight', 'against_poison',\n",
       "       'against_ground', 'against_flying', 'against_psychic', 'against_bug',\n",
       "       'against_rock', 'against_ghost', 'against_dragon', 'against_dark',\n",
       "       'against_steel', 'against_fairy', 'percentage_male_numeric', '%_male'],\n",
       "      dtype='object')"
      ]
     },
     "execution_count": 26,
     "metadata": {},
     "output_type": "execute_result"
    }
   ],
   "source": [
    "df.columns"
   ]
  },
  {
   "cell_type": "code",
   "execution_count": 27,
   "id": "555bbe49-90bf-44c5-8f40-26f0c9bba194",
   "metadata": {},
   "outputs": [
    {
     "data": {
      "text/html": [
       "<div>\n",
       "<style scoped>\n",
       "    .dataframe tbody tr th:only-of-type {\n",
       "        vertical-align: middle;\n",
       "    }\n",
       "\n",
       "    .dataframe tbody tr th {\n",
       "        vertical-align: top;\n",
       "    }\n",
       "\n",
       "    .dataframe thead th {\n",
       "        text-align: right;\n",
       "    }\n",
       "</style>\n",
       "<table border=\"1\" class=\"dataframe\">\n",
       "  <thead>\n",
       "    <tr style=\"text-align: right;\">\n",
       "      <th></th>\n",
       "      <th>name</th>\n",
       "      <th>attack</th>\n",
       "      <th>defense</th>\n",
       "    </tr>\n",
       "  </thead>\n",
       "  <tbody>\n",
       "    <tr>\n",
       "      <th>741</th>\n",
       "      <td>Larvesta</td>\n",
       "      <td>85</td>\n",
       "      <td>55</td>\n",
       "    </tr>\n",
       "    <tr>\n",
       "      <th>988</th>\n",
       "      <td>Centiskorch</td>\n",
       "      <td>115</td>\n",
       "      <td>65</td>\n",
       "    </tr>\n",
       "    <tr>\n",
       "      <th>537</th>\n",
       "      <td>Hippopotas</td>\n",
       "      <td>72</td>\n",
       "      <td>78</td>\n",
       "    </tr>\n",
       "    <tr>\n",
       "      <th>503</th>\n",
       "      <td>Buizel</td>\n",
       "      <td>65</td>\n",
       "      <td>35</td>\n",
       "    </tr>\n",
       "    <tr>\n",
       "      <th>893</th>\n",
       "      <td>Bounsweet</td>\n",
       "      <td>30</td>\n",
       "      <td>38</td>\n",
       "    </tr>\n",
       "  </tbody>\n",
       "</table>\n",
       "</div>"
      ],
      "text/plain": [
       "            name  attack  defense\n",
       "741     Larvesta      85       55\n",
       "988  Centiskorch     115       65\n",
       "537   Hippopotas      72       78\n",
       "503       Buizel      65       35\n",
       "893    Bounsweet      30       38"
      ]
     },
     "execution_count": 27,
     "metadata": {},
     "output_type": "execute_result"
    }
   ],
   "source": [
    "attack_defense_pts = df[['name','attack', 'defense']]\n",
    "attack_defense_pts.sample(5)"
   ]
  },
  {
   "cell_type": "code",
   "execution_count": 44,
   "id": "823e1ac2-7bab-4599-aec7-26f0159f918c",
   "metadata": {},
   "outputs": [
    {
     "data": {
      "text/html": [
       "<div>\n",
       "<style scoped>\n",
       "    .dataframe tbody tr th:only-of-type {\n",
       "        vertical-align: middle;\n",
       "    }\n",
       "\n",
       "    .dataframe tbody tr th {\n",
       "        vertical-align: top;\n",
       "    }\n",
       "\n",
       "    .dataframe thead th {\n",
       "        text-align: right;\n",
       "    }\n",
       "</style>\n",
       "<table border=\"1\" class=\"dataframe\">\n",
       "  <thead>\n",
       "    <tr style=\"text-align: right;\">\n",
       "      <th></th>\n",
       "      <th>name</th>\n",
       "      <th>ATTACK</th>\n",
       "      <th>defense</th>\n",
       "    </tr>\n",
       "  </thead>\n",
       "  <tbody>\n",
       "    <tr>\n",
       "      <th>4</th>\n",
       "      <td>Charmander</td>\n",
       "      <td>52</td>\n",
       "      <td>43</td>\n",
       "    </tr>\n",
       "    <tr>\n",
       "      <th>5</th>\n",
       "      <td>Charmeleon</td>\n",
       "      <td>64</td>\n",
       "      <td>58</td>\n",
       "    </tr>\n",
       "    <tr>\n",
       "      <th>6</th>\n",
       "      <td>Charizard</td>\n",
       "      <td>84</td>\n",
       "      <td>78</td>\n",
       "    </tr>\n",
       "    <tr>\n",
       "      <th>7</th>\n",
       "      <td>Charizard XMega Charizard X</td>\n",
       "      <td>130</td>\n",
       "      <td>111</td>\n",
       "    </tr>\n",
       "    <tr>\n",
       "      <th>8</th>\n",
       "      <td>Charizard YMega Charizard Y</td>\n",
       "      <td>104</td>\n",
       "      <td>78</td>\n",
       "    </tr>\n",
       "    <tr>\n",
       "      <th>...</th>\n",
       "      <td>...</td>\n",
       "      <td>...</td>\n",
       "      <td>...</td>\n",
       "    </tr>\n",
       "    <tr>\n",
       "      <th>1039</th>\n",
       "      <td>Regidrago</td>\n",
       "      <td>100</td>\n",
       "      <td>50</td>\n",
       "    </tr>\n",
       "    <tr>\n",
       "      <th>1040</th>\n",
       "      <td>Glastrier</td>\n",
       "      <td>145</td>\n",
       "      <td>130</td>\n",
       "    </tr>\n",
       "    <tr>\n",
       "      <th>1041</th>\n",
       "      <td>Spectrier</td>\n",
       "      <td>65</td>\n",
       "      <td>60</td>\n",
       "    </tr>\n",
       "    <tr>\n",
       "      <th>1043</th>\n",
       "      <td>Calyrex Ice Rider</td>\n",
       "      <td>165</td>\n",
       "      <td>150</td>\n",
       "    </tr>\n",
       "    <tr>\n",
       "      <th>1044</th>\n",
       "      <td>Calyrex Shadow Rider</td>\n",
       "      <td>85</td>\n",
       "      <td>80</td>\n",
       "    </tr>\n",
       "  </tbody>\n",
       "</table>\n",
       "<p>566 rows × 3 columns</p>\n",
       "</div>"
      ],
      "text/plain": [
       "                             name  ATTACK  defense\n",
       "4                      Charmander      52       43\n",
       "5                      Charmeleon      64       58\n",
       "6                       Charizard      84       78\n",
       "7     Charizard XMega Charizard X     130      111\n",
       "8     Charizard YMega Charizard Y     104       78\n",
       "...                           ...     ...      ...\n",
       "1039                    Regidrago     100       50\n",
       "1040                    Glastrier     145      130\n",
       "1041                    Spectrier      65       60\n",
       "1043            Calyrex Ice Rider     165      150\n",
       "1044         Calyrex Shadow Rider      85       80\n",
       "\n",
       "[566 rows x 3 columns]"
      ]
     },
     "execution_count": 44,
     "metadata": {},
     "output_type": "execute_result"
    }
   ],
   "source": [
    "aggresive = attack_defense_pts['attack'] > attack_defense_pts['defense']\n",
    "aggresive_pokemons = attack_defense_pts[aggresive].copy(deep=True)\n",
    "aggresive_pokemons.rename(columns = {'attack' : 'ATTACK'}, inplace=True)\n",
    "aggresive_pokemons"
   ]
  },
  {
   "cell_type": "code",
   "execution_count": null,
   "id": "78eff460-8107-440f-b69b-b16ff605aba7",
   "metadata": {},
   "outputs": [],
   "source": [
    "help(pd.DataFrame.rename"
   ]
  },
  {
   "cell_type": "code",
   "execution_count": 45,
   "id": "02d158fe-6b8b-4954-ba4d-60c843688caf",
   "metadata": {},
   "outputs": [
    {
     "data": {
      "text/html": [
       "<div>\n",
       "<style scoped>\n",
       "    .dataframe tbody tr th:only-of-type {\n",
       "        vertical-align: middle;\n",
       "    }\n",
       "\n",
       "    .dataframe tbody tr th {\n",
       "        vertical-align: top;\n",
       "    }\n",
       "\n",
       "    .dataframe thead th {\n",
       "        text-align: right;\n",
       "    }\n",
       "</style>\n",
       "<table border=\"1\" class=\"dataframe\">\n",
       "  <thead>\n",
       "    <tr style=\"text-align: right;\">\n",
       "      <th></th>\n",
       "      <th>name</th>\n",
       "      <th>attack</th>\n",
       "      <th>DEFENSE</th>\n",
       "    </tr>\n",
       "  </thead>\n",
       "  <tbody>\n",
       "    <tr>\n",
       "      <th>1</th>\n",
       "      <td>Ivysaur</td>\n",
       "      <td>62</td>\n",
       "      <td>63</td>\n",
       "    </tr>\n",
       "    <tr>\n",
       "      <th>2</th>\n",
       "      <td>Venusaur</td>\n",
       "      <td>82</td>\n",
       "      <td>83</td>\n",
       "    </tr>\n",
       "    <tr>\n",
       "      <th>3</th>\n",
       "      <td>VenusaurMega Venusaur</td>\n",
       "      <td>100</td>\n",
       "      <td>123</td>\n",
       "    </tr>\n",
       "    <tr>\n",
       "      <th>9</th>\n",
       "      <td>Squirtle</td>\n",
       "      <td>48</td>\n",
       "      <td>65</td>\n",
       "    </tr>\n",
       "    <tr>\n",
       "      <th>10</th>\n",
       "      <td>Wartortle</td>\n",
       "      <td>63</td>\n",
       "      <td>80</td>\n",
       "    </tr>\n",
       "    <tr>\n",
       "      <th>...</th>\n",
       "      <td>...</td>\n",
       "      <td>...</td>\n",
       "      <td>...</td>\n",
       "    </tr>\n",
       "    <tr>\n",
       "      <th>1023</th>\n",
       "      <td>Arctovish</td>\n",
       "      <td>90</td>\n",
       "      <td>100</td>\n",
       "    </tr>\n",
       "    <tr>\n",
       "      <th>1024</th>\n",
       "      <td>Duraludon</td>\n",
       "      <td>95</td>\n",
       "      <td>115</td>\n",
       "    </tr>\n",
       "    <tr>\n",
       "      <th>1030</th>\n",
       "      <td>Zamazenta Crowned Shield</td>\n",
       "      <td>130</td>\n",
       "      <td>145</td>\n",
       "    </tr>\n",
       "    <tr>\n",
       "      <th>1032</th>\n",
       "      <td>Eternatus</td>\n",
       "      <td>85</td>\n",
       "      <td>95</td>\n",
       "    </tr>\n",
       "    <tr>\n",
       "      <th>1033</th>\n",
       "      <td>Eternatus Eternamax</td>\n",
       "      <td>115</td>\n",
       "      <td>250</td>\n",
       "    </tr>\n",
       "  </tbody>\n",
       "</table>\n",
       "<p>374 rows × 3 columns</p>\n",
       "</div>"
      ],
      "text/plain": [
       "                          name  attack  DEFENSE\n",
       "1                      Ivysaur      62       63\n",
       "2                     Venusaur      82       83\n",
       "3        VenusaurMega Venusaur     100      123\n",
       "9                     Squirtle      48       65\n",
       "10                   Wartortle      63       80\n",
       "...                        ...     ...      ...\n",
       "1023                 Arctovish      90      100\n",
       "1024                 Duraludon      95      115\n",
       "1030  Zamazenta Crowned Shield     130      145\n",
       "1032                 Eternatus      85       95\n",
       "1033       Eternatus Eternamax     115      250\n",
       "\n",
       "[374 rows x 3 columns]"
      ]
     },
     "execution_count": 45,
     "metadata": {},
     "output_type": "execute_result"
    }
   ],
   "source": [
    "defensive = attack_defense_pts['attack'] < attack_defense_pts['defense']\n",
    "defensive_pokemons = attack_defense_pts[defensive].copy(deep=True)\n",
    "defensive_pokemons.rename(columns = {'defense' : 'DEFENSE'}, inplace=True)\n",
    "defensive_pokemons"
   ]
  },
  {
   "cell_type": "code",
   "execution_count": 46,
   "id": "309c14a8-faf8-4f8d-be0f-f2c1b2aeeb63",
   "metadata": {},
   "outputs": [
    {
     "name": "stdout",
     "output_type": "stream",
     "text": [
      "Hay 566 pokemon con mayor puntuación en ataque que en defensa. Por otro lado, 374 pokemon tienen más puntos de defensa que de ataque.\n"
     ]
    }
   ],
   "source": [
    "print(f'Hay {aggresive_pokemons.shape[0]} pokemon con mayor puntuación en ataque que en defensa. \\\n",
    "Por otro lado, {defensive_pokemons.shape[0]} pokemon tienen más puntos de defensa que de ataque.')"
   ]
  }
 ],
 "metadata": {
  "kernelspec": {
   "display_name": "Python 3 (ipykernel)",
   "language": "python",
   "name": "python3"
  },
  "language_info": {
   "codemirror_mode": {
    "name": "ipython",
    "version": 3
   },
   "file_extension": ".py",
   "mimetype": "text/x-python",
   "name": "python",
   "nbconvert_exporter": "python",
   "pygments_lexer": "ipython3",
   "version": "3.10.4"
  },
  "toc-autonumbering": false,
  "toc-showcode": false,
  "toc-showmarkdowntxt": false,
  "toc-showtags": false
 },
 "nbformat": 4,
 "nbformat_minor": 5
}
