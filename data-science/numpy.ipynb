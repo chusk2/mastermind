{
 "cells": [
  {
   "cell_type": "code",
   "execution_count": 1,
   "id": "4714462c-cbdc-4f82-b05f-f094e29ac91c",
   "metadata": {},
   "outputs": [],
   "source": [
    "import numpy as np"
   ]
  },
  {
   "cell_type": "code",
   "execution_count": 3,
   "id": "8bddaa19-36d8-419e-a46d-5bfa39b6bd43",
   "metadata": {},
   "outputs": [],
   "source": [
    "a = np.ones(10).reshape(2,5)"
   ]
  },
  {
   "cell_type": "code",
   "execution_count": 5,
   "id": "6aeef522-1a5a-4259-8237-4297c28319c4",
   "metadata": {},
   "outputs": [],
   "source": [
    "b = np.zeros(4).reshape(2,2)"
   ]
  },
  {
   "cell_type": "code",
   "execution_count": 7,
   "id": "dc7a4eb0-b235-46b8-9a3c-558509836c88",
   "metadata": {},
   "outputs": [
    {
     "data": {
      "text/plain": [
       "array([[1., 1., 1., 1., 1.],\n",
       "       [1., 1., 1., 1., 1.]])"
      ]
     },
     "execution_count": 7,
     "metadata": {},
     "output_type": "execute_result"
    }
   ],
   "source": [
    "a"
   ]
  },
  {
   "cell_type": "code",
   "execution_count": 8,
   "id": "81fa6661-b92e-419f-8479-6f037fefda9a",
   "metadata": {},
   "outputs": [
    {
     "data": {
      "text/plain": [
       "array([[0., 0.],\n",
       "       [0., 0.]])"
      ]
     },
     "execution_count": 8,
     "metadata": {},
     "output_type": "execute_result"
    }
   ],
   "source": [
    "b"
   ]
  },
  {
   "cell_type": "code",
   "execution_count": 9,
   "id": "d31cf5ab-b1b5-4c40-9754-0e38bbc0bb11",
   "metadata": {},
   "outputs": [
    {
     "data": {
      "text/plain": [
       "array([ 6, 14, 24, 36, 50])"
      ]
     },
     "execution_count": 9,
     "metadata": {},
     "output_type": "execute_result"
    }
   ],
   "source": [
    "l1 = [1,2,3,4,5]\n",
    "l2 = [6,7,8,9,10]\n",
    "a1 = np.array(l1)\n",
    "a2 = np.array(l2)\n",
    "a1*a2"
   ]
  },
  {
   "cell_type": "code",
   "execution_count": 10,
   "id": "2341b7a2-fbd3-4be5-8b6a-09025e490251",
   "metadata": {},
   "outputs": [
    {
     "data": {
      "text/plain": [
       "[6, 14, 24, 36, 50]"
      ]
     },
     "execution_count": 10,
     "metadata": {},
     "output_type": "execute_result"
    }
   ],
   "source": [
    "[i*j for i,j in zip(l1,l2)] "
   ]
  },
  {
   "cell_type": "code",
   "execution_count": 12,
   "id": "08365c8d-3836-475e-8e9e-8213c8370ca8",
   "metadata": {},
   "outputs": [
    {
     "data": {
      "text/plain": [
       "[6, 14, 24, 36, 50]"
      ]
     },
     "execution_count": 12,
     "metadata": {},
     "output_type": "execute_result"
    }
   ],
   "source": [
    "result = []\n",
    "for index in range(len(l1)):\n",
    "    result.append(l1[index] * l2[index])\n",
    "result"
   ]
  },
  {
   "cell_type": "code",
   "execution_count": 13,
   "id": "fe15bc0d-fb88-4a2a-bb78-acdc4758b151",
   "metadata": {},
   "outputs": [],
   "source": [
    "arr = np.random.randint(1,30,(3,5))"
   ]
  },
  {
   "cell_type": "code",
   "execution_count": 14,
   "id": "3647df78-2a40-4d30-8022-17a7e5cf88b6",
   "metadata": {},
   "outputs": [
    {
     "data": {
      "text/plain": [
       "array([[14, 22,  2, 17, 19],\n",
       "       [28,  5,  4, 16,  7],\n",
       "       [11, 24, 28, 24, 20]])"
      ]
     },
     "execution_count": 14,
     "metadata": {},
     "output_type": "execute_result"
    }
   ],
   "source": [
    "arr"
   ]
  },
  {
   "cell_type": "code",
   "execution_count": 15,
   "id": "2e8a459b-036a-4ae0-b0e0-0a29444066a2",
   "metadata": {},
   "outputs": [
    {
     "data": {
      "text/plain": [
       "array([[14, 28, 11],\n",
       "       [22,  5, 24],\n",
       "       [ 2,  4, 28],\n",
       "       [17, 16, 24],\n",
       "       [19,  7, 20]])"
      ]
     },
     "execution_count": 15,
     "metadata": {},
     "output_type": "execute_result"
    }
   ],
   "source": [
    "arr.T"
   ]
  },
  {
   "cell_type": "code",
   "execution_count": 16,
   "id": "5fb54492-669a-4400-a5b8-1639e93fa338",
   "metadata": {},
   "outputs": [
    {
     "data": {
      "text/plain": [
       "array([28, 24, 28, 24, 20])"
      ]
     },
     "execution_count": 16,
     "metadata": {},
     "output_type": "execute_result"
    }
   ],
   "source": [
    "arr.max(axis=0)  # maximum value on each column"
   ]
  },
  {
   "cell_type": "code",
   "execution_count": 18,
   "id": "6f8fb585-f320-4007-b95b-d86261b541a2",
   "metadata": {},
   "outputs": [
    {
     "data": {
      "text/plain": [
       "array([22, 28, 28])"
      ]
     },
     "execution_count": 18,
     "metadata": {},
     "output_type": "execute_result"
    }
   ],
   "source": [
    "arr.max(axis=1)  # maximum value on each row"
   ]
  },
  {
   "cell_type": "code",
   "execution_count": 20,
   "id": "804b811f-5d8f-4797-a255-8df736a6ef15",
   "metadata": {},
   "outputs": [
    {
     "data": {
      "text/plain": [
       "array([[  6, -14,  10,  18,  13],\n",
       "       [-14, -26,  16,  18,  14],\n",
       "       [-17, -28,  -5, -21, -15]])"
      ]
     },
     "execution_count": 20,
     "metadata": {},
     "output_type": "execute_result"
    }
   ],
   "source": [
    "arr = np.random.randint(-30,30,(3,5))\n",
    "arr"
   ]
  },
  {
   "cell_type": "markdown",
   "id": "89cb5b49-79e4-4ede-8552-d3703b1f23fe",
   "metadata": {},
   "source": [
    "`np.where(condition, func1, func2)` apply func1 if condition is met, else apply func2"
   ]
  },
  {
   "cell_type": "code",
   "execution_count": 25,
   "id": "4e7cc090-7e1f-45c3-a82c-b9967f42383a",
   "metadata": {},
   "outputs": [
    {
     "data": {
      "text/plain": [
       "array([[ 6,  0, 10, 18, 13],\n",
       "       [ 0,  0, 16, 18, 14],\n",
       "       [ 0,  0,  0,  0,  0]])"
      ]
     },
     "execution_count": 25,
     "metadata": {},
     "output_type": "execute_result"
    }
   ],
   "source": [
    "np.where(arr < 0, 0, arr)"
   ]
  },
  {
   "cell_type": "markdown",
   "id": "dbde19e3-0a09-4e68-8488-55adc337d752",
   "metadata": {},
   "source": [
    "### Create normal distributed data  \n",
    "Heights of people, using a normal distribution of mean = 1.75 m and standard deviation = 0.05 m"
   ]
  },
  {
   "cell_type": "code",
   "execution_count": 45,
   "id": "da0d581c-9eef-4ad8-9710-7160a884493f",
   "metadata": {},
   "outputs": [],
   "source": [
    "heights = np.random.normal(1.75, 0.05, 1000)"
   ]
  },
  {
   "cell_type": "code",
   "execution_count": 29,
   "id": "cc71b9f8-96b6-4d80-9332-2bdf5cfddd6b",
   "metadata": {},
   "outputs": [],
   "source": [
    "import matplotlib.pyplot as plt"
   ]
  },
  {
   "cell_type": "code",
   "execution_count": 46,
   "id": "151fb4ff-4f98-4dfe-a211-4769f56f1f40",
   "metadata": {},
   "outputs": [
    {
     "data": {
      "image/png": "[encoded data removed]",
      "text/plain": [
       "<Figure size 432x288 with 1 Axes>"
      ]
     },
     "metadata": {
      "needs_background": "light"
     },
     "output_type": "display_data"
    }
   ],
   "source": [
    "plt.hist(heights, bins=20)\n",
    "plt.show()"
   ]
  },
  {
   "cell_type": "code",
   "execution_count": 47,
   "id": "955c94a0-2453-44f5-a3ed-56b95df13ca6",
   "metadata": {},
   "outputs": [
    {
     "data": {
      "text/plain": [
       "count    1000.000000\n",
       "mean        1.749013\n",
       "std         0.049705\n",
       "min         1.584397\n",
       "25%         1.715716\n",
       "50%         1.748129\n",
       "75%         1.781214\n",
       "max         1.897789\n",
       "dtype: float64"
      ]
     },
     "execution_count": 47,
     "metadata": {},
     "output_type": "execute_result"
    }
   ],
   "source": [
    "import pandas as pd\n",
    "pd.Series(heights).describe()"
   ]
  },
  {
   "cell_type": "code",
   "execution_count": 48,
   "id": "18457cb8-1ab2-4fcc-8cb7-10fee5b5b4c7",
   "metadata": {},
   "outputs": [
    {
     "data": {
      "text/plain": [
       "1.7490129576617042"
      ]
     },
     "execution_count": 48,
     "metadata": {},
     "output_type": "execute_result"
    }
   ],
   "source": [
    "np.mean(heights)"
   ]
  },
  {
   "cell_type": "code",
   "execution_count": 49,
   "id": "6e71f050-be30-4105-8180-dc15ff88a1fc",
   "metadata": {},
   "outputs": [
    {
     "data": {
      "text/plain": [
       "1.7490129576617042"
      ]
     },
     "execution_count": 49,
     "metadata": {},
     "output_type": "execute_result"
    }
   ],
   "source": [
    "heights.mean()"
   ]
  },
  {
   "cell_type": "code",
   "execution_count": 50,
   "id": "bed83a88-a9a9-4d35-9120-326a653bd0af",
   "metadata": {},
   "outputs": [
    {
     "data": {
      "text/plain": [
       "1.7481291924483666"
      ]
     },
     "execution_count": 50,
     "metadata": {},
     "output_type": "execute_result"
    }
   ],
   "source": [
    "np.median(heights)"
   ]
  },
  {
   "cell_type": "code",
   "execution_count": 51,
   "id": "cc453db5-bfe7-4e5c-b46c-09e25126c64d",
   "metadata": {},
   "outputs": [
    {
     "data": {
      "text/plain": [
       "0.05055491419943517"
      ]
     },
     "execution_count": 51,
     "metadata": {},
     "output_type": "execute_result"
    }
   ],
   "source": [
    "( np.mean(heights) - np.median(heights) ) / np.median(heights) * 100"
   ]
  },
  {
   "cell_type": "code",
   "execution_count": null,
   "id": "360105d6-c757-465d-aa11-5f08a007e0e8",
   "metadata": {},
   "outputs": [],
   "source": []
  }
 ],
 "metadata": {
  "kernelspec": {
   "display_name": "Python 3 (ipykernel)",
   "language": "python",
   "name": "python3"
  },
  "language_info": {
   "codemirror_mode": {
    "name": "ipython",
    "version": 3
   },
   "file_extension": ".py",
   "mimetype": "text/x-python",
   "name": "python",
   "nbconvert_exporter": "python",
   "pygments_lexer": "ipython3",
   "version": "3.10.4"
  }
 },
 "nbformat": 4,
 "nbformat_minor": 5
}
